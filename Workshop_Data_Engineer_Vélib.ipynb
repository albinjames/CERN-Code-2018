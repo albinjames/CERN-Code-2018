{
  "nbformat": 4,
  "nbformat_minor": 0,
  "metadata": {
    "colab": {
      "name": "Workshop Data Engineer Vélib.ipynb",
      "provenance": [],
      "collapsed_sections": [],
      "include_colab_link": true
    },
    "kernelspec": {
      "name": "python3",
      "display_name": "Python 3"
    }
  },
  "cells": [
    {
      "cell_type": "markdown",
      "metadata": {
        "id": "view-in-github",
        "colab_type": "text"
      },
      "source": [
        "<a href=\"https://colab.research.google.com/github/albinjames/CERN-Code-2018/blob/master/Workshop_Data_Engineer_V%C3%A9lib.ipynb\" target=\"_parent\"><img src=\"https://colab.research.google.com/assets/colab-badge.svg\" alt=\"Open In Colab\"/></a>"
      ]
    },
    {
      "cell_type": "code",
      "metadata": {
        "id": "xDF7G-RxzaWC",
        "colab": {
          "base_uri": "https://localhost:8080/",
          "height": 102
        },
        "outputId": "1cabe76b-1d23-4318-96af-e26d09e9319a"
      },
      "source": [
        "!apt-get install openjdk-8-jdk-headless -qq > /dev/null\n",
        "!wget -q https://downloads.apache.org/spark/spark-2.4.5/spark-2.4.5-bin-hadoop2.7.tgz\n",
        "!tar xf spark-2.4.5-bin-hadoop2.7.tgz\n",
        "!pip install -q findspark pyspark"
      ],
      "execution_count": null,
      "outputs": [
        {
          "output_type": "stream",
          "text": [
            "tar: spark-2.4.5-bin-hadoop2.7.tgz: Cannot open: No such file or directory\n",
            "tar: Error is not recoverable: exiting now\n",
            "\u001b[K     |████████████████████████████████| 204.2MB 74kB/s \n",
            "\u001b[K     |████████████████████████████████| 204kB 45.9MB/s \n",
            "\u001b[?25h  Building wheel for pyspark (setup.py) ... \u001b[?25l\u001b[?25hdone\n"
          ],
          "name": "stdout"
        }
      ]
    },
    {
      "cell_type": "code",
      "metadata": {
        "id": "XzI8-tcDzhLk"
      },
      "source": [
        "import os\n",
        "import numpy as np\n",
        "import pandas as pd\n",
        "\n",
        "os.environ[\"JAVA_HOME\"] = \"/usr/lib/jvm/java-8-openjdk-amd64\"\n",
        "os.environ[\"SPARK_HOME\"] = \"/content/spark-2.4.5-bin-hadoop2.7\""
      ],
      "execution_count": null,
      "outputs": []
    },
    {
      "cell_type": "code",
      "metadata": {
        "id": "ICrXiAx3z2SP"
      },
      "source": [
        "import findspark\n",
        "\n",
        "from pyspark.sql import SparkSession, SQLContext\n",
        "from pyspark import SparkContext\n",
        "\n",
        "findspark.init()\n",
        "sc = SparkContext(\"local\")\n",
        "sql_c = SQLContext(sc)"
      ],
      "execution_count": null,
      "outputs": []
    },
    {
      "cell_type": "markdown",
      "metadata": {
        "id": "jUAHvSoH-A1M"
      },
      "source": [
        "## Importation des données brutes\n",
        "\n",
        "Nous allons récupérer les données brutes contenant les informations de chaque station.\n",
        "\n",
        "Ces données ont été récupérés pour chaque station et à chaque minute. Il faut donc **agréger** l'information par heure et pour chaque station."
      ]
    },
    {
      "cell_type": "code",
      "metadata": {
        "id": "s6pZ-oQz5Lst",
        "colab": {
          "base_uri": "https://localhost:8080/"
        },
        "outputId": "3e096bee-b3a8-4360-f062-2b3e0e7084c2"
      },
      "source": [
        "!for i in {0..6}; do curl -O https://velib.nocle.fr/dump/2019-03-1$i-data.db -k; done;"
      ],
      "execution_count": null,
      "outputs": [
        {
          "output_type": "stream",
          "text": [
            "  % Total    % Received % Xferd  Average Speed   Time    Time     Time  Current\n",
            "                                 Dload  Upload   Total   Spent    Left  Speed\n",
            "100 79.0M  100 79.0M    0     0  8879k      0  0:00:09  0:00:09 --:--:-- 10.8M\n",
            "  % Total    % Received % Xferd  Average Speed   Time    Time     Time  Current\n",
            "                                 Dload  Upload   Total   Spent    Left  Speed\n",
            "100 79.3M  100 79.3M    0     0  7732k      0  0:00:10  0:00:10 --:--:-- 8907k\n",
            "  % Total    % Received % Xferd  Average Speed   Time    Time     Time  Current\n",
            "                                 Dload  Upload   Total   Spent    Left  Speed\n",
            "100 79.4M  100 79.4M    0     0  7052k      0  0:00:11  0:00:11 --:--:-- 9571k\n",
            "  % Total    % Received % Xferd  Average Speed   Time    Time     Time  Current\n",
            "                                 Dload  Upload   Total   Spent    Left  Speed\n",
            "100 79.7M  100 79.7M    0     0  7508k      0  0:00:10  0:00:10 --:--:-- 9471k\n",
            "  % Total    % Received % Xferd  Average Speed   Time    Time     Time  Current\n",
            "                                 Dload  Upload   Total   Spent    Left  Speed\n",
            "100 79.9M  100 79.9M    0     0  7427k      0  0:00:11  0:00:11 --:--:-- 10.4M\n",
            "  % Total    % Received % Xferd  Average Speed   Time    Time     Time  Current\n",
            "                                 Dload  Upload   Total   Spent    Left  Speed\n",
            "100 79.9M  100 79.9M    0     0  7221k      0  0:00:11  0:00:11 --:--:-- 10.2M\n",
            "  % Total    % Received % Xferd  Average Speed   Time    Time     Time  Current\n",
            "                                 Dload  Upload   Total   Spent    Left  Speed\n",
            "100 79.9M  100 79.9M    0     0  7935k      0  0:00:10  0:00:10 --:--:-- 10.2M\n"
          ],
          "name": "stdout"
        }
      ]
    },
    {
      "cell_type": "code",
      "metadata": {
        "id": "OW02msZqTGDm"
      },
      "source": [
        "import sqlite3\n",
        "\n",
        "df = []\n",
        "\n",
        "for i in range(0, 1):\n",
        "  velib = sqlite3.connect('2019-03-1{}-data.db'.format(i))\n",
        "  fetches = velib.execute(\"\"\"select * from status\n",
        "left join statusConso\n",
        "on statusConso.id = status.idConso\"\"\").fetchall()\n",
        "  if len(df) == 0:\n",
        "    df = pd.DataFrame.from_records(fetches)\n",
        "  else:\n",
        "    df = pd.concat((df, pd.DataFrame.from_records(fetches)))"
      ],
      "execution_count": null,
      "outputs": []
    },
    {
      "cell_type": "code",
      "metadata": {
        "colab": {
          "base_uri": "https://localhost:8080/"
        },
        "id": "BlXfanzymE5P",
        "outputId": "2a9120fa-93b5-4d14-e97b-87116ac05571"
      },
      "source": [
        "df.info() "
      ],
      "execution_count": null,
      "outputs": [
        {
          "output_type": "stream",
          "text": [
            "<class 'pandas.core.frame.DataFrame'>\n",
            "RangeIndex: 1779204 entries, 0 to 1779203\n",
            "Data columns (total 23 columns):\n",
            " #   Column  Dtype  \n",
            "---  ------  -----  \n",
            " 0   0       int64  \n",
            " 1   1       int64  \n",
            " 2   2       int64  \n",
            " 3   3       object \n",
            " 4   4       int64  \n",
            " 5   5       int64  \n",
            " 6   6       int64  \n",
            " 7   7       int64  \n",
            " 8   8       int64  \n",
            " 9   9       int64  \n",
            " 10  10      int64  \n",
            " 11  11      object \n",
            " 12  12      object \n",
            " 13  13      int64  \n",
            " 14  14      object \n",
            " 15  15      float64\n",
            " 16  16      float64\n",
            " 17  17      float64\n",
            " 18  18      float64\n",
            " 19  19      float64\n",
            " 20  20      float64\n",
            " 21  21      float64\n",
            " 22  22      float64\n",
            "dtypes: float64(8), int64(11), object(4)\n",
            "memory usage: 312.2+ MB\n"
          ],
          "name": "stdout"
        }
      ]
    },
    {
      "cell_type": "code",
      "metadata": {
        "id": "kIM5GOg7VxZx"
      },
      "source": [
        "__f_d = velib.execute(\"\"\"select * from status\n",
        "left join statusConso\n",
        "on statusConso.id = status.idConso\"\"\")\n",
        "names = list(map(lambda x: x[0], __f_d.description))"
      ],
      "execution_count": null,
      "outputs": []
    },
    {
      "cell_type": "code",
      "metadata": {
        "id": "w3o1d9amT9cp",
        "colab": {
          "base_uri": "https://localhost:8080/",
          "height": 204
        },
        "outputId": "1b49cee5-514f-4e20-a4a3-a13f3ec4e507"
      },
      "source": [
        "names[13] = \"DROP\"\n",
        "df.columns = names\n",
        "df = df.iloc[:, :15]\n",
        "df = df.drop(['DROP'], axis=1)\n",
        "df.head()"
      ],
      "execution_count": null,
      "outputs": [
        {
          "output_type": "execute_result",
          "data": {
            "text/html": [
              "<div>\n",
              "<style scoped>\n",
              "    .dataframe tbody tr th:only-of-type {\n",
              "        vertical-align: middle;\n",
              "    }\n",
              "\n",
              "    .dataframe tbody tr th {\n",
              "        vertical-align: top;\n",
              "    }\n",
              "\n",
              "    .dataframe thead th {\n",
              "        text-align: right;\n",
              "    }\n",
              "</style>\n",
              "<table border=\"1\" class=\"dataframe\">\n",
              "  <thead>\n",
              "    <tr style=\"text-align: right;\">\n",
              "      <th></th>\n",
              "      <th>id</th>\n",
              "      <th>code</th>\n",
              "      <th>idConso</th>\n",
              "      <th>state</th>\n",
              "      <th>nbBike</th>\n",
              "      <th>nbEBike</th>\n",
              "      <th>nbFreeEDock</th>\n",
              "      <th>nbEDock</th>\n",
              "      <th>nbBikeOverflow</th>\n",
              "      <th>nbEBikeOverflow</th>\n",
              "      <th>maxBikeOverflow</th>\n",
              "      <th>overflow</th>\n",
              "      <th>overflowActivation</th>\n",
              "      <th>date</th>\n",
              "    </tr>\n",
              "  </thead>\n",
              "  <tbody>\n",
              "    <tr>\n",
              "      <th>0</th>\n",
              "      <td>516923241</td>\n",
              "      <td>6015</td>\n",
              "      <td>612897</td>\n",
              "      <td>Operative</td>\n",
              "      <td>46</td>\n",
              "      <td>4</td>\n",
              "      <td>6</td>\n",
              "      <td>56</td>\n",
              "      <td>0</td>\n",
              "      <td>0</td>\n",
              "      <td>55</td>\n",
              "      <td>no</td>\n",
              "      <td>no</td>\n",
              "      <td>2019-03-10 00:34:02</td>\n",
              "    </tr>\n",
              "    <tr>\n",
              "      <th>1</th>\n",
              "      <td>516923242</td>\n",
              "      <td>11037</td>\n",
              "      <td>612897</td>\n",
              "      <td>Close</td>\n",
              "      <td>1</td>\n",
              "      <td>1</td>\n",
              "      <td>37</td>\n",
              "      <td>39</td>\n",
              "      <td>0</td>\n",
              "      <td>0</td>\n",
              "      <td>0</td>\n",
              "      <td>no</td>\n",
              "      <td>no</td>\n",
              "      <td>2019-03-10 00:34:02</td>\n",
              "    </tr>\n",
              "    <tr>\n",
              "      <th>2</th>\n",
              "      <td>516923243</td>\n",
              "      <td>6021</td>\n",
              "      <td>612897</td>\n",
              "      <td>Operative</td>\n",
              "      <td>2</td>\n",
              "      <td>0</td>\n",
              "      <td>18</td>\n",
              "      <td>20</td>\n",
              "      <td>0</td>\n",
              "      <td>0</td>\n",
              "      <td>0</td>\n",
              "      <td>no</td>\n",
              "      <td>no</td>\n",
              "      <td>2019-03-10 00:34:02</td>\n",
              "    </tr>\n",
              "    <tr>\n",
              "      <th>3</th>\n",
              "      <td>516923244</td>\n",
              "      <td>9020</td>\n",
              "      <td>612897</td>\n",
              "      <td>Operative</td>\n",
              "      <td>4</td>\n",
              "      <td>3</td>\n",
              "      <td>14</td>\n",
              "      <td>21</td>\n",
              "      <td>0</td>\n",
              "      <td>1</td>\n",
              "      <td>21</td>\n",
              "      <td>no</td>\n",
              "      <td>no</td>\n",
              "      <td>2019-03-10 00:34:02</td>\n",
              "    </tr>\n",
              "    <tr>\n",
              "      <th>4</th>\n",
              "      <td>516923245</td>\n",
              "      <td>11104</td>\n",
              "      <td>612897</td>\n",
              "      <td>Operative</td>\n",
              "      <td>0</td>\n",
              "      <td>2</td>\n",
              "      <td>18</td>\n",
              "      <td>20</td>\n",
              "      <td>0</td>\n",
              "      <td>0</td>\n",
              "      <td>0</td>\n",
              "      <td>no</td>\n",
              "      <td>no</td>\n",
              "      <td>2019-03-10 00:34:02</td>\n",
              "    </tr>\n",
              "  </tbody>\n",
              "</table>\n",
              "</div>"
            ],
            "text/plain": [
              "          id   code  idConso  ... overflow  overflowActivation                 date\n",
              "0  516923241   6015   612897  ...       no                  no  2019-03-10 00:34:02\n",
              "1  516923242  11037   612897  ...       no                  no  2019-03-10 00:34:02\n",
              "2  516923243   6021   612897  ...       no                  no  2019-03-10 00:34:02\n",
              "3  516923244   9020   612897  ...       no                  no  2019-03-10 00:34:02\n",
              "4  516923245  11104   612897  ...       no                  no  2019-03-10 00:34:02\n",
              "\n",
              "[5 rows x 14 columns]"
            ]
          },
          "metadata": {
            "tags": []
          },
          "execution_count": 6
        }
      ]
    },
    {
      "cell_type": "code",
      "metadata": {
        "id": "cpwOW4sQT_Tt"
      },
      "source": [
        "df.to_csv(\"velib.csv\")"
      ],
      "execution_count": null,
      "outputs": []
    },
    {
      "cell_type": "code",
      "metadata": {
        "id": "NByaizDEnCCY"
      },
      "source": [
        "!tar -cf velib.tar.gz velib.csv"
      ],
      "execution_count": null,
      "outputs": []
    },
    {
      "cell_type": "code",
      "metadata": {
        "id": "tmyQXv6eUD-T"
      },
      "source": [
        "del df"
      ],
      "execution_count": null,
      "outputs": []
    },
    {
      "cell_type": "markdown",
      "metadata": {
        "id": "NPrXTAaSTabC"
      },
      "source": [
        "## Agrégation des données"
      ]
    },
    {
      "cell_type": "code",
      "metadata": {
        "id": "9Cx7aTByToSh"
      },
      "source": [
        "from pyspark.sql import functions"
      ],
      "execution_count": null,
      "outputs": []
    },
    {
      "cell_type": "code",
      "metadata": {
        "id": "qndxKTTZ-Qmr"
      },
      "source": [
        "trips = sql_c.read.csv(\"velib.csv\", header=True, sep=\",\")"
      ],
      "execution_count": null,
      "outputs": []
    },
    {
      "cell_type": "code",
      "metadata": {
        "id": "ParY3_-wnJzk",
        "colab": {
          "base_uri": "https://localhost:8080/",
          "height": 207
        },
        "outputId": "f641a9ed-d327-4785-9226-16756fafa5a8"
      },
      "source": [
        "trips.take(10)"
      ],
      "execution_count": null,
      "outputs": [
        {
          "output_type": "execute_result",
          "data": {
            "text/plain": [
              "[Row(_c0='0', id='516923241', code='6015', idConso='612897', state='Operative', nbBike='46', nbEBike='4', nbFreeEDock='6', nbEDock='56', nbBikeOverflow='0', nbEBikeOverflow='0', maxBikeOverflow='55', overflow='no', overflowActivation='no', date='2019-03-10 00:34:02'),\n",
              " Row(_c0='1', id='516923242', code='11037', idConso='612897', state='Close', nbBike='1', nbEBike='1', nbFreeEDock='37', nbEDock='39', nbBikeOverflow='0', nbEBikeOverflow='0', maxBikeOverflow='0', overflow='no', overflowActivation='no', date='2019-03-10 00:34:02'),\n",
              " Row(_c0='2', id='516923243', code='6021', idConso='612897', state='Operative', nbBike='2', nbEBike='0', nbFreeEDock='18', nbEDock='20', nbBikeOverflow='0', nbEBikeOverflow='0', maxBikeOverflow='0', overflow='no', overflowActivation='no', date='2019-03-10 00:34:02'),\n",
              " Row(_c0='3', id='516923244', code='9020', idConso='612897', state='Operative', nbBike='4', nbEBike='3', nbFreeEDock='14', nbEDock='21', nbBikeOverflow='0', nbEBikeOverflow='1', maxBikeOverflow='21', overflow='no', overflowActivation='no', date='2019-03-10 00:34:02'),\n",
              " Row(_c0='4', id='516923245', code='11104', idConso='612897', state='Operative', nbBike='0', nbEBike='2', nbFreeEDock='18', nbEDock='20', nbBikeOverflow='0', nbEBikeOverflow='0', maxBikeOverflow='0', overflow='no', overflowActivation='no', date='2019-03-10 00:34:02'),\n",
              " Row(_c0='5', id='516923246', code='14111', idConso='612897', state='Operative', nbBike='0', nbEBike='0', nbFreeEDock='25', nbEDock='25', nbBikeOverflow='0', nbEBikeOverflow='0', maxBikeOverflow='0', overflow='no', overflowActivation='no', date='2019-03-10 00:34:02'),\n",
              " Row(_c0='6', id='516923247', code='10013', idConso='612897', state='Operative', nbBike='15', nbEBike='3', nbFreeEDock='42', nbEDock='60', nbBikeOverflow='0', nbEBikeOverflow='0', maxBikeOverflow='60', overflow='no', overflowActivation='no', date='2019-03-10 00:34:02'),\n",
              " Row(_c0='7', id='516923248', code='7003', idConso='612897', state='Operative', nbBike='20', nbEBike='0', nbFreeEDock='40', nbEDock='60', nbBikeOverflow='0', nbEBikeOverflow='0', maxBikeOverflow='0', overflow='no', overflowActivation='no', date='2019-03-10 00:34:02'),\n",
              " Row(_c0='8', id='516923249', code='5001', idConso='612897', state='Operative', nbBike='3', nbEBike='2', nbFreeEDock='40', nbEDock='45', nbBikeOverflow='0', nbEBikeOverflow='0', maxBikeOverflow='45', overflow='no', overflowActivation='no', date='2019-03-10 00:34:02'),\n",
              " Row(_c0='9', id='516923250', code='12109', idConso='612897', state='Operative', nbBike='12', nbEBike='0', nbFreeEDock='18', nbEDock='30', nbBikeOverflow='0', nbEBikeOverflow='0', maxBikeOverflow='30', overflow='no', overflowActivation='no', date='2019-03-10 00:34:02')]"
            ]
          },
          "metadata": {
            "tags": []
          },
          "execution_count": 19
        }
      ]
    },
    {
      "cell_type": "code",
      "metadata": {
        "id": "2YZ5AonWoy0x",
        "colab": {
          "base_uri": "https://localhost:8080/",
          "height": 207
        },
        "outputId": "b9fd09c3-b5df-4133-bf8e-f03de5b85a05"
      },
      "source": [
        "trips_day = trips.withColumn(\"day\", functions.dayofmonth(\"date\")) \\\n",
        "                      .withColumn(\"month\", functions.month(\"date\")) \\\n",
        "                      .withColumn(\"year\", functions.year(\"date\")) \\\n",
        "                      .withColumn(\"hour\", functions.hour(\"date\")) \\\n",
        "                      .withColumn(\"minute\", functions.minute(\"date\")) \\\n",
        "                      .rdd\n",
        "trips_day.take(10)"
      ],
      "execution_count": null,
      "outputs": [
        {
          "output_type": "execute_result",
          "data": {
            "text/plain": [
              "[Row(_c0='0', id='516923241', code='6015', idConso='612897', state='Operative', nbBike='46', nbEBike='4', nbFreeEDock='6', nbEDock='56', nbBikeOverflow='0', nbEBikeOverflow='0', maxBikeOverflow='55', overflow='no', overflowActivation='no', date='2019-03-10 00:34:02', day=10, month=3, year=2019, hour=0, minute=34),\n",
              " Row(_c0='1', id='516923242', code='11037', idConso='612897', state='Close', nbBike='1', nbEBike='1', nbFreeEDock='37', nbEDock='39', nbBikeOverflow='0', nbEBikeOverflow='0', maxBikeOverflow='0', overflow='no', overflowActivation='no', date='2019-03-10 00:34:02', day=10, month=3, year=2019, hour=0, minute=34),\n",
              " Row(_c0='2', id='516923243', code='6021', idConso='612897', state='Operative', nbBike='2', nbEBike='0', nbFreeEDock='18', nbEDock='20', nbBikeOverflow='0', nbEBikeOverflow='0', maxBikeOverflow='0', overflow='no', overflowActivation='no', date='2019-03-10 00:34:02', day=10, month=3, year=2019, hour=0, minute=34),\n",
              " Row(_c0='3', id='516923244', code='9020', idConso='612897', state='Operative', nbBike='4', nbEBike='3', nbFreeEDock='14', nbEDock='21', nbBikeOverflow='0', nbEBikeOverflow='1', maxBikeOverflow='21', overflow='no', overflowActivation='no', date='2019-03-10 00:34:02', day=10, month=3, year=2019, hour=0, minute=34),\n",
              " Row(_c0='4', id='516923245', code='11104', idConso='612897', state='Operative', nbBike='0', nbEBike='2', nbFreeEDock='18', nbEDock='20', nbBikeOverflow='0', nbEBikeOverflow='0', maxBikeOverflow='0', overflow='no', overflowActivation='no', date='2019-03-10 00:34:02', day=10, month=3, year=2019, hour=0, minute=34),\n",
              " Row(_c0='5', id='516923246', code='14111', idConso='612897', state='Operative', nbBike='0', nbEBike='0', nbFreeEDock='25', nbEDock='25', nbBikeOverflow='0', nbEBikeOverflow='0', maxBikeOverflow='0', overflow='no', overflowActivation='no', date='2019-03-10 00:34:02', day=10, month=3, year=2019, hour=0, minute=34),\n",
              " Row(_c0='6', id='516923247', code='10013', idConso='612897', state='Operative', nbBike='15', nbEBike='3', nbFreeEDock='42', nbEDock='60', nbBikeOverflow='0', nbEBikeOverflow='0', maxBikeOverflow='60', overflow='no', overflowActivation='no', date='2019-03-10 00:34:02', day=10, month=3, year=2019, hour=0, minute=34),\n",
              " Row(_c0='7', id='516923248', code='7003', idConso='612897', state='Operative', nbBike='20', nbEBike='0', nbFreeEDock='40', nbEDock='60', nbBikeOverflow='0', nbEBikeOverflow='0', maxBikeOverflow='0', overflow='no', overflowActivation='no', date='2019-03-10 00:34:02', day=10, month=3, year=2019, hour=0, minute=34),\n",
              " Row(_c0='8', id='516923249', code='5001', idConso='612897', state='Operative', nbBike='3', nbEBike='2', nbFreeEDock='40', nbEDock='45', nbBikeOverflow='0', nbEBikeOverflow='0', maxBikeOverflow='45', overflow='no', overflowActivation='no', date='2019-03-10 00:34:02', day=10, month=3, year=2019, hour=0, minute=34),\n",
              " Row(_c0='9', id='516923250', code='12109', idConso='612897', state='Operative', nbBike='12', nbEBike='0', nbFreeEDock='18', nbEDock='30', nbBikeOverflow='0', nbEBikeOverflow='0', maxBikeOverflow='30', overflow='no', overflowActivation='no', date='2019-03-10 00:34:02', day=10, month=3, year=2019, hour=0, minute=34)]"
            ]
          },
          "metadata": {
            "tags": []
          },
          "execution_count": 20
        }
      ]
    },
    {
      "cell_type": "code",
      "metadata": {
        "id": "Vs0jNQVz-SKe",
        "colab": {
          "base_uri": "https://localhost:8080/",
          "height": 187
        },
        "outputId": "0e40cee2-2815-4060-8329-8f884f7c3dda"
      },
      "source": [
        "def map_trips(row):\n",
        "  index = (int(row['code']), row['day'], row['month'], row['hour'])\n",
        "  value = np.asarray([int(row['minute']), int(row['nbBike']), int(row['nbEBike']), int(row['nbEDock'])])\n",
        "  return index, value\n",
        "\n",
        "trips_per_station = trips_day.map(map_trips)\n",
        "trips_per_station.take(10)"
      ],
      "execution_count": null,
      "outputs": [
        {
          "output_type": "execute_result",
          "data": {
            "text/plain": [
              "[((6015, 10, 3, 0), array([34, 46,  4, 56])),\n",
              " ((11037, 10, 3, 0), array([34,  1,  1, 39])),\n",
              " ((6021, 10, 3, 0), array([34,  2,  0, 20])),\n",
              " ((9020, 10, 3, 0), array([34,  4,  3, 21])),\n",
              " ((11104, 10, 3, 0), array([34,  0,  2, 20])),\n",
              " ((14111, 10, 3, 0), array([34,  0,  0, 25])),\n",
              " ((10013, 10, 3, 0), array([34, 15,  3, 60])),\n",
              " ((7003, 10, 3, 0), array([34, 20,  0, 60])),\n",
              " ((5001, 10, 3, 0), array([34,  3,  2, 45])),\n",
              " ((12109, 10, 3, 0), array([34, 12,  0, 30]))]"
            ]
          },
          "metadata": {
            "tags": []
          },
          "execution_count": 21
        }
      ]
    },
    {
      "cell_type": "code",
      "metadata": {
        "id": "4VOmnajvvI4_",
        "colab": {
          "base_uri": "https://localhost:8080/",
          "height": 187
        },
        "outputId": "b28407f9-eb83-46f9-fb9e-cea870a83e8c"
      },
      "source": [
        "def group_per_station(value_x, value_y):\n",
        "  if value_x[0] < value_y[0]:\n",
        "    return value_x\n",
        "  return value_y\n",
        "\n",
        "trips_counts_station = trips_per_station.reduceByKey(group_per_station)\n",
        "trips_counts_station.take(10)\n"
      ],
      "execution_count": null,
      "outputs": [
        {
          "output_type": "execute_result",
          "data": {
            "text/plain": [
              "[((11037, 10, 3, 0), array([ 0,  1,  1, 39])),\n",
              " ((6021, 10, 3, 0), array([ 0,  2,  0, 20])),\n",
              " ((10013, 10, 3, 0), array([ 0, 16,  2, 60])),\n",
              " ((12109, 10, 3, 0), array([ 0, 11,  0, 30])),\n",
              " ((41301, 10, 3, 0), array([ 0,  4,  3, 51])),\n",
              " ((13101, 10, 3, 0), array([ 0,  8,  1, 34])),\n",
              " ((44013, 10, 3, 0), array([ 0,  1,  8, 30])),\n",
              " ((6029, 10, 3, 0), array([ 0,  3,  1, 26])),\n",
              " ((14013, 10, 3, 0), array([ 0,  1,  0, 14])),\n",
              " ((8053, 10, 3, 0), array([ 0,  1,  1, 29]))]"
            ]
          },
          "metadata": {
            "tags": []
          },
          "execution_count": 22
        }
      ]
    },
    {
      "cell_type": "code",
      "metadata": {
        "id": "tb450opex54C",
        "colab": {
          "base_uri": "https://localhost:8080/",
          "height": 34
        },
        "outputId": "0b9bb693-af7a-427b-bb12-ab6b4b695891"
      },
      "source": [
        "bikes_per_stations = np.asarray(trips_counts_station.collect())\n",
        "bikes_per_stations.shape"
      ],
      "execution_count": null,
      "outputs": [
        {
          "output_type": "execute_result",
          "data": {
            "text/plain": [
              "(209017, 2, 4)"
            ]
          },
          "metadata": {
            "tags": []
          },
          "execution_count": 23
        }
      ]
    },
    {
      "cell_type": "code",
      "metadata": {
        "id": "ikED2NQZzA4H",
        "colab": {
          "base_uri": "https://localhost:8080/",
          "height": 34
        },
        "outputId": "76da6dc8-c8f8-4ac4-c36a-f3aec3f4bfbb"
      },
      "source": [
        "data_raw = []\n",
        "\n",
        "for station in bikes_per_stations:\n",
        "  data_raw.append(station.flatten())\n",
        "\n",
        "data_raw = np.asarray(data_raw)\n",
        "data_raw.shape"
      ],
      "execution_count": null,
      "outputs": [
        {
          "output_type": "execute_result",
          "data": {
            "text/plain": [
              "(209017, 8)"
            ]
          },
          "metadata": {
            "tags": []
          },
          "execution_count": 24
        }
      ]
    },
    {
      "cell_type": "code",
      "metadata": {
        "id": "JBkzHlmgumKU",
        "colab": {
          "base_uri": "https://localhost:8080/",
          "height": 204
        },
        "outputId": "5759b9ca-73de-4d01-fc71-9e510a621487"
      },
      "source": [
        "data = pd.DataFrame(data=data_raw,\n",
        "                    columns=['code', 'day', 'month', 'hour', 'minute', 'bikes', 'Ebikes', 'slots'])\n",
        "data = data.drop(['minute'], axis=1)\n",
        "data.head()"
      ],
      "execution_count": null,
      "outputs": [
        {
          "output_type": "execute_result",
          "data": {
            "text/html": [
              "<div>\n",
              "<style scoped>\n",
              "    .dataframe tbody tr th:only-of-type {\n",
              "        vertical-align: middle;\n",
              "    }\n",
              "\n",
              "    .dataframe tbody tr th {\n",
              "        vertical-align: top;\n",
              "    }\n",
              "\n",
              "    .dataframe thead th {\n",
              "        text-align: right;\n",
              "    }\n",
              "</style>\n",
              "<table border=\"1\" class=\"dataframe\">\n",
              "  <thead>\n",
              "    <tr style=\"text-align: right;\">\n",
              "      <th></th>\n",
              "      <th>code</th>\n",
              "      <th>day</th>\n",
              "      <th>month</th>\n",
              "      <th>hour</th>\n",
              "      <th>bikes</th>\n",
              "      <th>Ebikes</th>\n",
              "      <th>slots</th>\n",
              "    </tr>\n",
              "  </thead>\n",
              "  <tbody>\n",
              "    <tr>\n",
              "      <th>0</th>\n",
              "      <td>11037</td>\n",
              "      <td>10</td>\n",
              "      <td>3</td>\n",
              "      <td>0</td>\n",
              "      <td>1</td>\n",
              "      <td>1</td>\n",
              "      <td>39</td>\n",
              "    </tr>\n",
              "    <tr>\n",
              "      <th>1</th>\n",
              "      <td>6021</td>\n",
              "      <td>10</td>\n",
              "      <td>3</td>\n",
              "      <td>0</td>\n",
              "      <td>2</td>\n",
              "      <td>0</td>\n",
              "      <td>20</td>\n",
              "    </tr>\n",
              "    <tr>\n",
              "      <th>2</th>\n",
              "      <td>10013</td>\n",
              "      <td>10</td>\n",
              "      <td>3</td>\n",
              "      <td>0</td>\n",
              "      <td>16</td>\n",
              "      <td>2</td>\n",
              "      <td>60</td>\n",
              "    </tr>\n",
              "    <tr>\n",
              "      <th>3</th>\n",
              "      <td>12109</td>\n",
              "      <td>10</td>\n",
              "      <td>3</td>\n",
              "      <td>0</td>\n",
              "      <td>11</td>\n",
              "      <td>0</td>\n",
              "      <td>30</td>\n",
              "    </tr>\n",
              "    <tr>\n",
              "      <th>4</th>\n",
              "      <td>41301</td>\n",
              "      <td>10</td>\n",
              "      <td>3</td>\n",
              "      <td>0</td>\n",
              "      <td>4</td>\n",
              "      <td>3</td>\n",
              "      <td>51</td>\n",
              "    </tr>\n",
              "  </tbody>\n",
              "</table>\n",
              "</div>"
            ],
            "text/plain": [
              "    code  day  month  hour  bikes  Ebikes  slots\n",
              "0  11037   10      3     0      1       1     39\n",
              "1   6021   10      3     0      2       0     20\n",
              "2  10013   10      3     0     16       2     60\n",
              "3  12109   10      3     0     11       0     30\n",
              "4  41301   10      3     0      4       3     51"
            ]
          },
          "metadata": {
            "tags": []
          },
          "execution_count": 25
        }
      ]
    },
    {
      "cell_type": "code",
      "metadata": {
        "id": "QBoqHGmvyEC0",
        "colab": {
          "base_uri": "https://localhost:8080/",
          "height": 204
        },
        "outputId": "d9d4252e-fb93-4462-f2ad-f202f2d1a2b0"
      },
      "source": [
        "data['availability'] = (data['bikes'] + data['Ebikes']) / data['slots']\n",
        "data.head()"
      ],
      "execution_count": null,
      "outputs": [
        {
          "output_type": "execute_result",
          "data": {
            "text/html": [
              "<div>\n",
              "<style scoped>\n",
              "    .dataframe tbody tr th:only-of-type {\n",
              "        vertical-align: middle;\n",
              "    }\n",
              "\n",
              "    .dataframe tbody tr th {\n",
              "        vertical-align: top;\n",
              "    }\n",
              "\n",
              "    .dataframe thead th {\n",
              "        text-align: right;\n",
              "    }\n",
              "</style>\n",
              "<table border=\"1\" class=\"dataframe\">\n",
              "  <thead>\n",
              "    <tr style=\"text-align: right;\">\n",
              "      <th></th>\n",
              "      <th>code</th>\n",
              "      <th>day</th>\n",
              "      <th>month</th>\n",
              "      <th>hour</th>\n",
              "      <th>bikes</th>\n",
              "      <th>Ebikes</th>\n",
              "      <th>slots</th>\n",
              "      <th>availability</th>\n",
              "    </tr>\n",
              "  </thead>\n",
              "  <tbody>\n",
              "    <tr>\n",
              "      <th>0</th>\n",
              "      <td>11037</td>\n",
              "      <td>10</td>\n",
              "      <td>3</td>\n",
              "      <td>0</td>\n",
              "      <td>1</td>\n",
              "      <td>1</td>\n",
              "      <td>39</td>\n",
              "      <td>0.051282</td>\n",
              "    </tr>\n",
              "    <tr>\n",
              "      <th>1</th>\n",
              "      <td>6021</td>\n",
              "      <td>10</td>\n",
              "      <td>3</td>\n",
              "      <td>0</td>\n",
              "      <td>2</td>\n",
              "      <td>0</td>\n",
              "      <td>20</td>\n",
              "      <td>0.100000</td>\n",
              "    </tr>\n",
              "    <tr>\n",
              "      <th>2</th>\n",
              "      <td>10013</td>\n",
              "      <td>10</td>\n",
              "      <td>3</td>\n",
              "      <td>0</td>\n",
              "      <td>16</td>\n",
              "      <td>2</td>\n",
              "      <td>60</td>\n",
              "      <td>0.300000</td>\n",
              "    </tr>\n",
              "    <tr>\n",
              "      <th>3</th>\n",
              "      <td>12109</td>\n",
              "      <td>10</td>\n",
              "      <td>3</td>\n",
              "      <td>0</td>\n",
              "      <td>11</td>\n",
              "      <td>0</td>\n",
              "      <td>30</td>\n",
              "      <td>0.366667</td>\n",
              "    </tr>\n",
              "    <tr>\n",
              "      <th>4</th>\n",
              "      <td>41301</td>\n",
              "      <td>10</td>\n",
              "      <td>3</td>\n",
              "      <td>0</td>\n",
              "      <td>4</td>\n",
              "      <td>3</td>\n",
              "      <td>51</td>\n",
              "      <td>0.137255</td>\n",
              "    </tr>\n",
              "  </tbody>\n",
              "</table>\n",
              "</div>"
            ],
            "text/plain": [
              "    code  day  month  hour  bikes  Ebikes  slots  availability\n",
              "0  11037   10      3     0      1       1     39      0.051282\n",
              "1   6021   10      3     0      2       0     20      0.100000\n",
              "2  10013   10      3     0     16       2     60      0.300000\n",
              "3  12109   10      3     0     11       0     30      0.366667\n",
              "4  41301   10      3     0      4       3     51      0.137255"
            ]
          },
          "metadata": {
            "tags": []
          },
          "execution_count": 26
        }
      ]
    },
    {
      "cell_type": "code",
      "metadata": {
        "id": "30L0WQqUvHrn"
      },
      "source": [
        "import matplotlib.pyplot as plt\n",
        "import seaborn as sn\n",
        "\n",
        "sn.set()"
      ],
      "execution_count": null,
      "outputs": []
    },
    {
      "cell_type": "code",
      "metadata": {
        "id": "p6u4msRsvNHU",
        "colab": {
          "base_uri": "https://localhost:8080/",
          "height": 540
        },
        "outputId": "88114088-b8cb-4c71-98c2-fd413f3550fb"
      },
      "source": [
        "station_code = 13019 # Juste à côté d'ici ...\n",
        "plt.figure(figsize=(14,9))\n",
        "days = ['Lundi', 'Mardi', 'Mercredi', 'Jeudi', 'Vendredi', 'Samedi', 'Dimanche']\n",
        "\n",
        "for day in range(10, 11):\n",
        "  data_sub_station = data.loc[(data['code'] == station_code) &\n",
        "                              (data['day'] == day),\n",
        "                              ['hour', 'availability']]\n",
        "  data_sub_station = data_sub_station.sort_values('hour')\n",
        "  data_sub_station.head()\n",
        "\n",
        "  hours = np.asarray([[x, x+1] for x in range(23)]).flatten()\n",
        "  avail = np.asarray([[data_sub_station.values[i, 1], data_sub_station.values[i, 1]] for i in range(23)]).flatten()\n",
        "\n",
        "  plt.plot(hours, avail, label=days[day - 10])\n",
        "\n",
        "plt.legend()\n",
        "plt.show()"
      ],
      "execution_count": null,
      "outputs": [
        {
          "output_type": "display_data",
          "data": {
            "image/png": "[encoded data removed]",
            "text/plain": [
              "<Figure size 1008x648 with 1 Axes>"
            ]
          },
          "metadata": {
            "tags": []
          }
        }
      ]
    },
    {
      "cell_type": "code",
      "metadata": {
        "id": "NV1uZsJ8GRvc",
        "colab": {
          "base_uri": "https://localhost:8080/",
          "height": 557
        },
        "outputId": "ec409fbf-c0cf-4c6d-eacc-3a7cd31ffd85"
      },
      "source": [
        "station_code = 13019\n",
        "plt.figure(figsize=(14,9))\n",
        "\n",
        "avail = []\n",
        "\n",
        "for day in range(7):\n",
        "  data_sub_station = data.loc[(data['code'] == station_code) &\n",
        "                              (data['day'] == 10 + day),\n",
        "                              ['hour', 'availability']]\n",
        "  data_sub_station = data_sub_station.sort_values('hour')\n",
        "\n",
        "  avail = np.hstack((avail, data_sub_station.values[:, 1]))\n",
        "\n",
        "plt.plot(range(24 * 7), avail)\n",
        "\n",
        "plt.legend()\n",
        "plt.show()"
      ],
      "execution_count": null,
      "outputs": [
        {
          "output_type": "stream",
          "text": [
            "No handles with labels found to put in legend.\n"
          ],
          "name": "stderr"
        },
        {
          "output_type": "display_data",
          "data": {
            "image/png": "[encoded data removed]",
            "text/plain": [
              "<Figure size 1008x648 with 1 Axes>"
            ]
          },
          "metadata": {
            "tags": []
          }
        }
      ]
    }
  ]
}