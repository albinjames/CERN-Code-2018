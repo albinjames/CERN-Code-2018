{
 "cells": [
  {
   "cell_type": "markdown",
   "metadata": {},
   "source": [
    "<h1 id=\"tocheading\">Table of Contents and Notebook Setup</h1>\n",
    "<div id=\"toc\"></div>"
   ]
  },
  {
   "cell_type": "code",
   "execution_count": 1,
   "metadata": {},
   "outputs": [
    {
     "data": {
      "application/javascript": [
       "$.getScript('https://kmahelona.github.io/ipython_notebook_goodies/ipython_notebook_toc.js')"
      ],
      "text/plain": [
       "<IPython.core.display.Javascript object>"
      ]
     },
     "metadata": {},
     "output_type": "display_data"
    }
   ],
   "source": [
    "%%javascript\n",
    "$.getScript('https://kmahelona.github.io/ipython_notebook_goodies/ipython_notebook_toc.js')"
   ]
  },
  {
   "cell_type": "code",
   "execution_count": 2,
   "metadata": {},
   "outputs": [],
   "source": [
    "#%load_ext autoreload\n",
    "%matplotlib inline\n",
    "#%autoreload 2\n",
    "\n",
    "import sys\n",
    "from IPython.display import clear_output\n",
    "# sys.path.append('/eos/user/e/efthymio/Projects/LHCLumi/LHCLumiAnalysis/')\n",
    "#for p in sys.path:\n",
    "#    print (p)\n",
    "\n",
    "import os\n",
    "import cl2pd\n",
    "from cl2pd import importData\n",
    "pd = importData.pd\n",
    "cals = importData.cals\n",
    "\n",
    "# import LHCPerformanceTools.LHC_WSData as WSData\n",
    "# WS = WSData.LHCWSData()\n",
    "\n",
    "import itertools\n",
    "import operator\n",
    "import numpy as np\n",
    "import glob\n",
    "import pickle\n",
    "import gzip\n",
    "import time\n",
    "\n",
    "import matplotlib.pyplot as plt\n",
    "import scipy\n",
    "import pandas as pd\n",
    "import seaborn as sns\n",
    "sns.set_style(\"whitegrid\", {'axes.grid' : False})\n",
    "from scipy.stats.stats import pearsonr \n",
    "from itertools import cycle\n",
    "pd.options.mode.chained_assignment = None  # default='warn'\n",
    "\n",
    "\n",
    "# get_ipython().magic('matplotlib inline')\n",
    "\n",
    "# --- Definitions\n",
    "\n",
    "BASEWSDIR = '/eos/project/l/lhc-profiles-lumi/WS/2018'\n",
    "RAWWSDIR = '{}/rawdata'.format(BASEWSDIR)\n",
    "PROCWSDIR = '{}/procdata'.format(BASEWSDIR)\n",
    "\n",
    "MASS_PROTON = 938.27231 #MeV"
   ]
  },
  {
   "cell_type": "markdown",
   "metadata": {},
   "source": [
    "# Extract Data and Do Fitting"
   ]
  },
  {
   "cell_type": "code",
   "execution_count": 3,
   "metadata": {},
   "outputs": [],
   "source": [
    "fno = 6699\n",
    "fname = '/eos/project/l/lhc-profiles-lumi/WS/2018/procdata/fill_{}/fill_{}_wsprof_exp.pkl'.format(fno, fno)\n",
    "with open(fname,'rb') as fin:\n",
    "    scandf = pd.read_pickle(fin)"
   ]
  },
  {
   "cell_type": "markdown",
   "metadata": {},
   "source": [
    "## Get Timing Properties About the Fill"
   ]
  },
  {
   "cell_type": "code",
   "execution_count": 4,
   "metadata": {},
   "outputs": [
    {
     "data": {
      "text/html": [
       "<div>\n",
       "<style scoped>\n",
       "    .dataframe tbody tr th:only-of-type {\n",
       "        vertical-align: middle;\n",
       "    }\n",
       "\n",
       "    .dataframe tbody tr th {\n",
       "        vertical-align: top;\n",
       "    }\n",
       "\n",
       "    .dataframe thead th {\n",
       "        text-align: right;\n",
       "    }\n",
       "</style>\n",
       "<table border=\"1\" class=\"dataframe\">\n",
       "  <thead>\n",
       "    <tr style=\"text-align: right;\">\n",
       "      <th></th>\n",
       "      <th>mode</th>\n",
       "      <th>startTime</th>\n",
       "      <th>endTime</th>\n",
       "      <th>duration</th>\n",
       "    </tr>\n",
       "  </thead>\n",
       "  <tbody>\n",
       "    <tr>\n",
       "      <th>6699</th>\n",
       "      <td>FILL</td>\n",
       "      <td>2018-05-18 18:16:54.156000+00:00</td>\n",
       "      <td>2018-05-18 23:47:19.993000+00:00</td>\n",
       "      <td>05:30:25.837000</td>\n",
       "    </tr>\n",
       "    <tr>\n",
       "      <th>6699</th>\n",
       "      <td>INJPROT</td>\n",
       "      <td>2018-05-18 18:17:08.076000+00:00</td>\n",
       "      <td>2018-05-18 18:18:06.216000+00:00</td>\n",
       "      <td>00:00:58.140000</td>\n",
       "    </tr>\n",
       "    <tr>\n",
       "      <th>6699</th>\n",
       "      <td>SETUP</td>\n",
       "      <td>2018-05-18 18:18:06.217000+00:00</td>\n",
       "      <td>2018-05-18 18:23:46.679000+00:00</td>\n",
       "      <td>00:05:40.462000</td>\n",
       "    </tr>\n",
       "    <tr>\n",
       "      <th>6699</th>\n",
       "      <td>INJPROT</td>\n",
       "      <td>2018-05-18 18:23:46.680000+00:00</td>\n",
       "      <td>2018-05-18 18:27:20.053000+00:00</td>\n",
       "      <td>00:03:33.373000</td>\n",
       "    </tr>\n",
       "    <tr>\n",
       "      <th>6699</th>\n",
       "      <td>INJPHYS</td>\n",
       "      <td>2018-05-18 18:27:20.054000+00:00</td>\n",
       "      <td>2018-05-18 18:43:59.837000+00:00</td>\n",
       "      <td>00:16:39.783000</td>\n",
       "    </tr>\n",
       "    <tr>\n",
       "      <th>6699</th>\n",
       "      <td>PRERAMP</td>\n",
       "      <td>2018-05-18 18:43:59.838000+00:00</td>\n",
       "      <td>2018-05-18 18:53:28.253000+00:00</td>\n",
       "      <td>00:09:28.415000</td>\n",
       "    </tr>\n",
       "    <tr>\n",
       "      <th>6699</th>\n",
       "      <td>RAMP</td>\n",
       "      <td>2018-05-18 18:53:28.254000+00:00</td>\n",
       "      <td>2018-05-18 19:14:17.205000+00:00</td>\n",
       "      <td>00:20:48.951000</td>\n",
       "    </tr>\n",
       "    <tr>\n",
       "      <th>6699</th>\n",
       "      <td>FLATTOP</td>\n",
       "      <td>2018-05-18 19:14:17.206000+00:00</td>\n",
       "      <td>2018-05-18 19:59:01.379000+00:00</td>\n",
       "      <td>00:44:44.173000</td>\n",
       "    </tr>\n",
       "    <tr>\n",
       "      <th>6699</th>\n",
       "      <td>SQUEEZE</td>\n",
       "      <td>2018-05-18 19:59:01.380000+00:00</td>\n",
       "      <td>2018-05-18 20:11:03.946000+00:00</td>\n",
       "      <td>00:12:02.566000</td>\n",
       "    </tr>\n",
       "    <tr>\n",
       "      <th>6699</th>\n",
       "      <td>ADJUST</td>\n",
       "      <td>2018-05-18 20:11:03.947000+00:00</td>\n",
       "      <td>2018-05-18 20:34:29.794000+00:00</td>\n",
       "      <td>00:23:25.847000</td>\n",
       "    </tr>\n",
       "    <tr>\n",
       "      <th>6699</th>\n",
       "      <td>STABLE</td>\n",
       "      <td>2018-05-18 20:34:29.795000+00:00</td>\n",
       "      <td>2018-05-18 23:29:32.147000+00:00</td>\n",
       "      <td>02:55:02.352000</td>\n",
       "    </tr>\n",
       "    <tr>\n",
       "      <th>6699</th>\n",
       "      <td>ADJUST</td>\n",
       "      <td>2018-05-18 23:29:32.148000+00:00</td>\n",
       "      <td>2018-05-18 23:42:59.199000+00:00</td>\n",
       "      <td>00:13:27.051000</td>\n",
       "    </tr>\n",
       "    <tr>\n",
       "      <th>6699</th>\n",
       "      <td>BEAMDUMP</td>\n",
       "      <td>2018-05-18 23:42:59.200000+00:00</td>\n",
       "      <td>2018-05-18 23:43:15.066000+00:00</td>\n",
       "      <td>00:00:15.866000</td>\n",
       "    </tr>\n",
       "    <tr>\n",
       "      <th>6699</th>\n",
       "      <td>RAMPDOWN</td>\n",
       "      <td>2018-05-18 23:43:15.067000+00:00</td>\n",
       "      <td>2018-05-18 23:47:19.993000+00:00</td>\n",
       "      <td>00:04:04.926000</td>\n",
       "    </tr>\n",
       "  </tbody>\n",
       "</table>\n",
       "</div>"
      ],
      "text/plain": [
       "          mode                        startTime  \\\n",
       "6699      FILL 2018-05-18 18:16:54.156000+00:00   \n",
       "6699   INJPROT 2018-05-18 18:17:08.076000+00:00   \n",
       "6699     SETUP 2018-05-18 18:18:06.217000+00:00   \n",
       "6699   INJPROT 2018-05-18 18:23:46.680000+00:00   \n",
       "6699   INJPHYS 2018-05-18 18:27:20.054000+00:00   \n",
       "6699   PRERAMP 2018-05-18 18:43:59.838000+00:00   \n",
       "6699      RAMP 2018-05-18 18:53:28.254000+00:00   \n",
       "6699   FLATTOP 2018-05-18 19:14:17.206000+00:00   \n",
       "6699   SQUEEZE 2018-05-18 19:59:01.380000+00:00   \n",
       "6699    ADJUST 2018-05-18 20:11:03.947000+00:00   \n",
       "6699    STABLE 2018-05-18 20:34:29.795000+00:00   \n",
       "6699    ADJUST 2018-05-18 23:29:32.148000+00:00   \n",
       "6699  BEAMDUMP 2018-05-18 23:42:59.200000+00:00   \n",
       "6699  RAMPDOWN 2018-05-18 23:43:15.067000+00:00   \n",
       "\n",
       "                              endTime        duration  \n",
       "6699 2018-05-18 23:47:19.993000+00:00 05:30:25.837000  \n",
       "6699 2018-05-18 18:18:06.216000+00:00 00:00:58.140000  \n",
       "6699 2018-05-18 18:23:46.679000+00:00 00:05:40.462000  \n",
       "6699 2018-05-18 18:27:20.053000+00:00 00:03:33.373000  \n",
       "6699 2018-05-18 18:43:59.837000+00:00 00:16:39.783000  \n",
       "6699 2018-05-18 18:53:28.253000+00:00 00:09:28.415000  \n",
       "6699 2018-05-18 19:14:17.205000+00:00 00:20:48.951000  \n",
       "6699 2018-05-18 19:59:01.379000+00:00 00:44:44.173000  \n",
       "6699 2018-05-18 20:11:03.946000+00:00 00:12:02.566000  \n",
       "6699 2018-05-18 20:34:29.794000+00:00 00:23:25.847000  \n",
       "6699 2018-05-18 23:29:32.147000+00:00 02:55:02.352000  \n",
       "6699 2018-05-18 23:42:59.199000+00:00 00:13:27.051000  \n",
       "6699 2018-05-18 23:43:15.066000+00:00 00:00:15.866000  \n",
       "6699 2018-05-18 23:47:19.993000+00:00 00:04:04.926000  "
      ]
     },
     "execution_count": 4,
     "metadata": {},
     "output_type": "execute_result"
    }
   ],
   "source": [
    "myFill = importData.LHCFillsByNumber(fno)\n",
    "\n",
    "t1 = myFill[myFill['mode']=='PRERAMP']['startTime'][0]\n",
    "t2 = myFill[myFill['mode']=='ADJUST']['endTime'][0]\n",
    "\n",
    "phases = ['PRERAMP', 'RAMP', 'FLATTOP', 'SQUEEZE', 'ADJUST', 'STABLE']\n",
    "phase_times = [myFill[myFill['mode']==phase]['startTime'][0] for phase in phases]\n",
    "myFill"
   ]
  },
  {
   "cell_type": "markdown",
   "metadata": {},
   "source": [
    "## Fit Gaussian Parameters to Get Width"
   ]
  },
  {
   "cell_type": "markdown",
   "metadata": {},
   "source": [
    "Fit data to\n",
    "\n",
    "$ f(x) = ae^{-\\frac{1}{2}\\left(\\frac{x-\\mu}{\\sigma} \\right)^2}$\n",
    "\n",
    "and use $\\sigma$ as beam width."
   ]
  },
  {
   "cell_type": "code",
   "execution_count": 5,
   "metadata": {},
   "outputs": [],
   "source": [
    "def gaus(x, sigma, x0, a, y0):\n",
    "    return a*np.exp(-(x-x0)**2/(2*sigma**2)) + y0"
   ]
  },
  {
   "cell_type": "code",
   "execution_count": 6,
   "metadata": {},
   "outputs": [],
   "source": [
    "def fit_to_gauss(df_row, wire_movement): #wire movement is \"IN\" or \"OUT:\n",
    "\n",
    "    x = df_row['PROF_POSITION_'+wire_movement]\n",
    "    y = df_row['PROF_DATA_'+wire_movement]\n",
    "    \n",
    "    # INITIAL GUESSES FOR FIT\n",
    "    ypeak = max(y) \n",
    "    xpeak = x[y.argmax()]\n",
    "    half_max = np.abs(y-ypeak/2).argmin()\n",
    "    std_approx = np.abs(x[half_max] - xpeak)\n",
    "    \n",
    "    if ypeak>100:\n",
    "        popt,pcov = scipy.optimize.curve_fit(gaus,x,y,p0=[std_approx, xpeak, ypeak, 0])\n",
    "        sigma, mean, ampl, yoff = popt \n",
    "    else:\n",
    "        mean = ampl = yoff = 0\n",
    "        sigma = None\n",
    "        \n",
    "    return sigma"
   ]
  },
  {
   "cell_type": "code",
   "execution_count": 7,
   "metadata": {},
   "outputs": [
    {
     "name": "stderr",
     "output_type": "stream",
     "text": [
      "/cvmfs/sft.cern.ch/lcg/views/LCG_93/x86_64-slc6-gcc62-opt/lib/python2.7/site-packages/ipykernel/__main__.py:2: RuntimeWarning: divide by zero encountered in divide\n",
      "  from ipykernel import kernelapp as app\n",
      "/cvmfs/sft.cern.ch/lcg/views/LCG_93/x86_64-slc6-gcc62-opt/lib/python2.7/site-packages/ipykernel/__main__.py:2: RuntimeWarning: invalid value encountered in divide\n",
      "  from ipykernel import kernelapp as app\n",
      "/cvmfs/sft.cern.ch/lcg/views/LCG_93/x86_64-slc6-gcc62-opt/lib/python2.7/site-packages/scipy/optimize/minpack.py:715: OptimizeWarning: Covariance of the parameters could not be estimated\n",
      "  category=OptimizeWarning)\n"
     ]
    }
   ],
   "source": [
    "scandf['BEAM_WIDTH_IN'] = scandf.apply(fit_to_gauss, axis='columns', args=('IN',))\n",
    "scandf['BEAM_WIDTH_OUT'] = scandf.apply(fit_to_gauss, axis='columns', args=('OUT',))"
   ]
  },
  {
   "cell_type": "markdown",
   "metadata": {},
   "source": [
    "## Set Appropriate Beta Values"
   ]
  },
  {
   "cell_type": "markdown",
   "metadata": {},
   "source": [
    "Given by Dr. Efthymiopoulos"
   ]
  },
  {
   "cell_type": "code",
   "execution_count": 8,
   "metadata": {},
   "outputs": [],
   "source": [
    "def get_beta(df_row):\n",
    "    \n",
    "    BEAM_NUM = str(df_row['BEAM'])\n",
    "    POS = str(df_row['PLANE'])\n",
    "    \n",
    "    if BEAM_NUM == 'B1' and POS == 'V':\n",
    "        inj_beta, flattop_beta, squeeze_beta = 342.1, 337.5, 333.4\n",
    "    if BEAM_NUM == 'B1' and POS == 'H':\n",
    "        inj_beta, flattop_beta, squeeze_beta = 193.4, 183.3, 193.2\n",
    "    if BEAM_NUM == 'B2' and POS == 'V':\n",
    "        inj_beta, flattop_beta, squeeze_beta = 396.6, 421.1, 408.3\n",
    "    if BEAM_NUM == 'B2' and POS == 'H':\n",
    "        inj_beta, flattop_beta, squeeze_beta = 185.3, 187.7, 182.3\n",
    "        \n",
    "    if df_row.name>=phase_times[0] and df_row.name<=phase_times[3]:\n",
    "        BETA = inj_beta\n",
    "    elif df_row.name>=phase_times[3] and df_row.name<=phase_times[4]:\n",
    "        BETA = flattop_beta\n",
    "    elif df_row.name>=phase_times[4]:\n",
    "        BETA = squeeze_beta\n",
    "    else:\n",
    "        BETA = None\n",
    "    \n",
    "    return BETA "
   ]
  },
  {
   "cell_type": "code",
   "execution_count": 9,
   "metadata": {},
   "outputs": [],
   "source": [
    "scandf['BETA'] = scandf.apply(get_beta, axis='columns')\n",
    "scandf = scandf.dropna()"
   ]
  },
  {
   "cell_type": "markdown",
   "metadata": {},
   "source": [
    "## Set Appropriate Emittance Values"
   ]
  },
  {
   "cell_type": "markdown",
   "metadata": {},
   "source": [
    "$\\epsilon_N = \\frac{E}{m}\\frac{\\sigma^2}{\\beta}$"
   ]
  },
  {
   "cell_type": "code",
   "execution_count": 10,
   "metadata": {},
   "outputs": [],
   "source": [
    "def get_emit(df_row, wire_movement):\n",
    "    return (df_row['BEAM_WIDTH_'+wire_movement]**2 *\n",
    "            (df_row['ENERGY']) /\n",
    "            (df_row['BETA'] * MASS_PROTON))*10**-3"
   ]
  },
  {
   "cell_type": "code",
   "execution_count": 11,
   "metadata": {},
   "outputs": [],
   "source": [
    "scandf['EMIT_IN'] = scandf.apply(get_emit, axis='columns', args=('IN',))\n",
    "scandf['EMIT_OUT'] = scandf.apply(get_emit, axis='columns', args=('OUT',))"
   ]
  },
  {
   "cell_type": "markdown",
   "metadata": {},
   "source": [
    "## Set Appropriate Brightness Values"
   ]
  },
  {
   "cell_type": "markdown",
   "metadata": {},
   "source": [
    "$B=\\frac{\\epsilon_N}{I}$"
   ]
  },
  {
   "cell_type": "code",
   "execution_count": 12,
   "metadata": {},
   "outputs": [],
   "source": [
    "def get_bright(df_row, wire_movement):\n",
    "    return df_row['EMIT_'+wire_movement]/df_row['INTENSITY']"
   ]
  },
  {
   "cell_type": "code",
   "execution_count": 13,
   "metadata": {},
   "outputs": [],
   "source": [
    "scandf['BRIGHT_IN'] = scandf.apply(get_bright, axis='columns', args=('IN',))\n",
    "scandf['BRIGHT_OUT'] = scandf.apply(get_bright, axis='columns', args=('OUT',))"
   ]
  },
  {
   "cell_type": "markdown",
   "metadata": {},
   "source": [
    "# Plotting"
   ]
  },
  {
   "cell_type": "markdown",
   "metadata": {},
   "source": [
    "## Emittance Throughout All Time"
   ]
  },
  {
   "cell_type": "code",
   "execution_count": 14,
   "metadata": {},
   "outputs": [
    {
     "name": "stderr",
     "output_type": "stream",
     "text": [
      "/cvmfs/sft.cern.ch/lcg/views/LCG_93/x86_64-slc6-gcc62-opt/lib/python2.7/site-packages/seaborn/categorical.py:637: FutureWarning: remove_na is deprecated and is a private function. Do not use.\n",
      "  kde_data = remove_na(group_data[hue_mask])\n",
      "/cvmfs/sft.cern.ch/lcg/views/LCG_93/x86_64-slc6-gcc62-opt/lib/python2.7/site-packages/seaborn/categorical.py:885: FutureWarning: remove_na is deprecated and is a private function. Do not use.\n",
      "  violin_data = remove_na(group_data[hue_mask])\n",
      "/cvmfs/sft.cern.ch/lcg/views/LCG_93/x86_64-slc6-gcc62-opt/lib/python2.7/site-packages/seaborn/categorical.py:905: FutureWarning: remove_na is deprecated and is a private function. Do not use.\n",
      "  violin_data = remove_na(group_data)\n",
      "/cvmfs/sft.cern.ch/lcg/views/LCG_93/x86_64-slc6-gcc62-opt/lib/python2.7/site-packages/matplotlib/font_manager.py:1316: UserWarning: findfont: Font family [u'sans-serif'] not found. Falling back to DejaVu Sans\n",
      "  (prop.get_family(), self.defaultFamily[fontext]))\n"
     ]
    },
    {
     "data": {
      "image/png": "[encoded data removed]",
      "text/plain": [
       "<matplotlib.figure.Figure at 0x7fbf39a12890>"
      ]
     },
     "metadata": {},
     "output_type": "display_data"
    }
   ],
   "source": [
    "fig, axes = plt.subplots(1,2,figsize=(16,5))\n",
    "sns.violinplot(x='BUNCH', y='EMIT_IN', hue='PLANE',\n",
    "                  data=scandf[scandf['BEAM']=='B1'], palette=\"muted\", split=True, ax=axes[0])\n",
    "props = {'title': 'Bunch Emittance, B1', 'xlabel': 'Bunch',\n",
    "        'ylabel': r\"$\\epsilon_{n}$ (m)\"}\n",
    "axes[0].set(**props)\n",
    "axes[0].grid()\n",
    "\n",
    "sns.violinplot(x='BUNCH', y='EMIT_IN', hue='PLANE',\n",
    "                  data=scandf[scandf['BEAM']=='B2'], palette=\"muted\", split=True, ax=axes[1])\n",
    "props = {'title': 'Bunch Emittance, B2', 'xlabel': 'Bunch',\n",
    "        'ylabel': r\"$\\epsilon_{n}$ (m)\"}\n",
    "axes[1].set(**props)\n",
    "axes[1].grid()\n",
    "\n",
    "fig.savefig('violinplotbunches.pdf', bbox_inches='tight')\n",
    "plt.show()"
   ]
  },
  {
   "cell_type": "markdown",
   "metadata": {},
   "source": [
    "Theoretically, the conservation of $\\epsilon_N$ should enforce that each histogram resemble a dirac delta function: these plots show that this is not the case."
   ]
  },
  {
   "cell_type": "markdown",
   "metadata": {},
   "source": [
    "## Preramp and Ramp Plot "
   ]
  },
  {
   "cell_type": "code",
   "execution_count": 15,
   "metadata": {},
   "outputs": [
    {
     "data": {
      "image/png": "[encoded data removed]",
      "text/plain": [
       "<matplotlib.figure.Figure at 0x7fbf385f8690>"
      ]
     },
     "metadata": {},
     "output_type": "display_data"
    }
   ],
   "source": [
    "t1 = phase_times[0] #PRERAMP\n",
    "t2 = phase_times[2] #FLATTOP\n",
    "fig, ax = plt.subplots()\n",
    "sns.violinplot(x='BUNCH', y='EMIT_IN', hue='PLANE',\n",
    "                  data=scandf[(scandf.index >= t1) & (scandf.index <= t2)],\n",
    "                  palette=\"muted\", split=True, ax=ax)\n",
    "props = {'title': 'Bunch Emittance During Ramp Phase', 'xlabel': 'Bunch',\n",
    "        'ylabel': r\"$\\epsilon_{n}$ (m)\"}\n",
    "ax.set(**props)\n",
    "plt.show()"
   ]
  }
 ],
 "metadata": {
  "kernelspec": {
   "display_name": "Python 2",
   "language": "python",
   "name": "python2"
  },
  "language_info": {
   "codemirror_mode": {
    "name": "ipython",
    "version": 2
   },
   "file_extension": ".py",
   "mimetype": "text/x-python",
   "name": "python",
   "nbconvert_exporter": "python",
   "pygments_lexer": "ipython2",
   "version": "2.7.13"
  }
 },
 "nbformat": 4,
 "nbformat_minor": 2
}
