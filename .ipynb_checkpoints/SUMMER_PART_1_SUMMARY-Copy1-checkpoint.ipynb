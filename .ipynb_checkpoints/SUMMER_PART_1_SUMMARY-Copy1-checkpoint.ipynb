{
 "cells": [
  {
   "cell_type": "markdown",
   "metadata": {},
   "source": [
    "<h1 id=\"tocheading\">Table of Contents and Notebook Setup</h1>\n",
    "<div id=\"toc\"></div>"
   ]
  },
  {
   "cell_type": "code",
   "execution_count": 1,
   "metadata": {},
   "outputs": [
    {
     "data": {
      "application/javascript": [
       "$.getScript('https://kmahelona.github.io/ipython_notebook_goodies/ipython_notebook_toc.js')"
      ],
      "text/plain": [
       "<IPython.core.display.Javascript object>"
      ]
     },
     "metadata": {},
     "output_type": "display_data"
    }
   ],
   "source": [
    "%%javascript\n",
    "$.getScript('https://kmahelona.github.io/ipython_notebook_goodies/ipython_notebook_toc.js')"
   ]
  },
  {
   "cell_type": "code",
   "execution_count": 2,
   "metadata": {},
   "outputs": [],
   "source": [
    "#%load_ext autoreload\n",
    "%matplotlib inline\n",
    "#%autoreload 2\n",
    "\n",
    "import sys\n",
    "from IPython.display import clear_output\n",
    "# sys.path.append('/eos/user/e/efthymio/Projects/LHCLumi/LHCLumiAnalysis/')\n",
    "#for p in sys.path:\n",
    "#    print (p)\n",
    "\n",
    "import os\n",
    "import cl2pd\n",
    "from cl2pd import importData\n",
    "pd = importData.pd\n",
    "cals = importData.cals\n",
    "\n",
    "# import LHCPerformanceTools.LHC_WSData as WSData\n",
    "# WS = WSData.LHCWSData()\n",
    "\n",
    "import itertools\n",
    "import operator\n",
    "import numpy as np\n",
    "import glob\n",
    "import pickle\n",
    "import gzip\n",
    "import time\n",
    "\n",
    "import matplotlib.pyplot as plt\n",
    "import scipy\n",
    "import pandas as pd\n",
    "from scipy.stats.stats import pearsonr \n",
    "from itertools import cycle\n",
    "pd.options.mode.chained_assignment = None  # default='warn'\n",
    "\n",
    "\n",
    "# get_ipython().magic('matplotlib inline')\n",
    "\n",
    "# --- Definitions\n",
    "\n",
    "BASEWSDIR = '/eos/project/l/lhc-profiles-lumi/WS/2018'\n",
    "RAWWSDIR = '{}/rawdata'.format(BASEWSDIR)\n",
    "PROCWSDIR = '{}/procdata'.format(BASEWSDIR)\n",
    "\n",
    "MASS_PROTON = 938.27231 #MeV\n"
   ]
  },
  {
   "cell_type": "code",
   "execution_count": 3,
   "metadata": {},
   "outputs": [],
   "source": [
    "BEAM_NUM = 'B1'\n",
    "POS = 'H'\n",
    "BUNCH_NUM = 5"
   ]
  },
  {
   "cell_type": "markdown",
   "metadata": {},
   "source": [
    "# Load Appropriate Data"
   ]
  },
  {
   "cell_type": "markdown",
   "metadata": {},
   "source": [
    "## Timing Data"
   ]
  },
  {
   "cell_type": "code",
   "execution_count": 4,
   "metadata": {
    "scrolled": true
   },
   "outputs": [],
   "source": [
    "myFill = importData.LHCFillsByNumber(6699)\n",
    "\n",
    "t1 = myFill[myFill['mode']=='PRERAMP']['startTime'][0]\n",
    "t2 = myFill[myFill['mode']=='ADJUST']['endTime'][0]\n",
    "\n",
    "phases = ['PRERAMP', 'RAMP', 'FLATTOP', 'SQUEEZE', 'ADJUST', 'STABLE']\n",
    "phase_times = [myFill[myFill['mode']==phase]['startTime'][0] for phase in phases]"
   ]
  },
  {
   "cell_type": "code",
   "execution_count": 5,
   "metadata": {},
   "outputs": [
    {
     "data": {
      "text/html": [
       "<div>\n",
       "<style scoped>\n",
       "    .dataframe tbody tr th:only-of-type {\n",
       "        vertical-align: middle;\n",
       "    }\n",
       "\n",
       "    .dataframe tbody tr th {\n",
       "        vertical-align: top;\n",
       "    }\n",
       "\n",
       "    .dataframe thead th {\n",
       "        text-align: right;\n",
       "    }\n",
       "</style>\n",
       "<table border=\"1\" class=\"dataframe\">\n",
       "  <thead>\n",
       "    <tr style=\"text-align: right;\">\n",
       "      <th></th>\n",
       "      <th>mode</th>\n",
       "      <th>startTime</th>\n",
       "      <th>endTime</th>\n",
       "      <th>duration</th>\n",
       "    </tr>\n",
       "  </thead>\n",
       "  <tbody>\n",
       "    <tr>\n",
       "      <th>6699</th>\n",
       "      <td>FILL</td>\n",
       "      <td>2018-05-18 18:16:54.156000+00:00</td>\n",
       "      <td>2018-05-18 23:47:19.993000+00:00</td>\n",
       "      <td>05:30:25.837000</td>\n",
       "    </tr>\n",
       "    <tr>\n",
       "      <th>6699</th>\n",
       "      <td>INJPROT</td>\n",
       "      <td>2018-05-18 18:17:08.076000+00:00</td>\n",
       "      <td>2018-05-18 18:18:06.216000+00:00</td>\n",
       "      <td>00:00:58.140000</td>\n",
       "    </tr>\n",
       "    <tr>\n",
       "      <th>6699</th>\n",
       "      <td>SETUP</td>\n",
       "      <td>2018-05-18 18:18:06.217000+00:00</td>\n",
       "      <td>2018-05-18 18:23:46.679000+00:00</td>\n",
       "      <td>00:05:40.462000</td>\n",
       "    </tr>\n",
       "    <tr>\n",
       "      <th>6699</th>\n",
       "      <td>INJPROT</td>\n",
       "      <td>2018-05-18 18:23:46.680000+00:00</td>\n",
       "      <td>2018-05-18 18:27:20.053000+00:00</td>\n",
       "      <td>00:03:33.373000</td>\n",
       "    </tr>\n",
       "    <tr>\n",
       "      <th>6699</th>\n",
       "      <td>INJPHYS</td>\n",
       "      <td>2018-05-18 18:27:20.054000+00:00</td>\n",
       "      <td>2018-05-18 18:43:59.837000+00:00</td>\n",
       "      <td>00:16:39.783000</td>\n",
       "    </tr>\n",
       "    <tr>\n",
       "      <th>6699</th>\n",
       "      <td>PRERAMP</td>\n",
       "      <td>2018-05-18 18:43:59.838000+00:00</td>\n",
       "      <td>2018-05-18 18:53:28.253000+00:00</td>\n",
       "      <td>00:09:28.415000</td>\n",
       "    </tr>\n",
       "    <tr>\n",
       "      <th>6699</th>\n",
       "      <td>RAMP</td>\n",
       "      <td>2018-05-18 18:53:28.254000+00:00</td>\n",
       "      <td>2018-05-18 19:14:17.205000+00:00</td>\n",
       "      <td>00:20:48.951000</td>\n",
       "    </tr>\n",
       "    <tr>\n",
       "      <th>6699</th>\n",
       "      <td>FLATTOP</td>\n",
       "      <td>2018-05-18 19:14:17.206000+00:00</td>\n",
       "      <td>2018-05-18 19:59:01.379000+00:00</td>\n",
       "      <td>00:44:44.173000</td>\n",
       "    </tr>\n",
       "    <tr>\n",
       "      <th>6699</th>\n",
       "      <td>SQUEEZE</td>\n",
       "      <td>2018-05-18 19:59:01.380000+00:00</td>\n",
       "      <td>2018-05-18 20:11:03.946000+00:00</td>\n",
       "      <td>00:12:02.566000</td>\n",
       "    </tr>\n",
       "    <tr>\n",
       "      <th>6699</th>\n",
       "      <td>ADJUST</td>\n",
       "      <td>2018-05-18 20:11:03.947000+00:00</td>\n",
       "      <td>2018-05-18 20:34:29.794000+00:00</td>\n",
       "      <td>00:23:25.847000</td>\n",
       "    </tr>\n",
       "    <tr>\n",
       "      <th>6699</th>\n",
       "      <td>STABLE</td>\n",
       "      <td>2018-05-18 20:34:29.795000+00:00</td>\n",
       "      <td>2018-05-18 23:29:32.147000+00:00</td>\n",
       "      <td>02:55:02.352000</td>\n",
       "    </tr>\n",
       "    <tr>\n",
       "      <th>6699</th>\n",
       "      <td>ADJUST</td>\n",
       "      <td>2018-05-18 23:29:32.148000+00:00</td>\n",
       "      <td>2018-05-18 23:42:59.199000+00:00</td>\n",
       "      <td>00:13:27.051000</td>\n",
       "    </tr>\n",
       "    <tr>\n",
       "      <th>6699</th>\n",
       "      <td>BEAMDUMP</td>\n",
       "      <td>2018-05-18 23:42:59.200000+00:00</td>\n",
       "      <td>2018-05-18 23:43:15.066000+00:00</td>\n",
       "      <td>00:00:15.866000</td>\n",
       "    </tr>\n",
       "    <tr>\n",
       "      <th>6699</th>\n",
       "      <td>RAMPDOWN</td>\n",
       "      <td>2018-05-18 23:43:15.067000+00:00</td>\n",
       "      <td>2018-05-18 23:47:19.993000+00:00</td>\n",
       "      <td>00:04:04.926000</td>\n",
       "    </tr>\n",
       "  </tbody>\n",
       "</table>\n",
       "</div>"
      ],
      "text/plain": [
       "          mode                        startTime  \\\n",
       "6699      FILL 2018-05-18 18:16:54.156000+00:00   \n",
       "6699   INJPROT 2018-05-18 18:17:08.076000+00:00   \n",
       "6699     SETUP 2018-05-18 18:18:06.217000+00:00   \n",
       "6699   INJPROT 2018-05-18 18:23:46.680000+00:00   \n",
       "6699   INJPHYS 2018-05-18 18:27:20.054000+00:00   \n",
       "6699   PRERAMP 2018-05-18 18:43:59.838000+00:00   \n",
       "6699      RAMP 2018-05-18 18:53:28.254000+00:00   \n",
       "6699   FLATTOP 2018-05-18 19:14:17.206000+00:00   \n",
       "6699   SQUEEZE 2018-05-18 19:59:01.380000+00:00   \n",
       "6699    ADJUST 2018-05-18 20:11:03.947000+00:00   \n",
       "6699    STABLE 2018-05-18 20:34:29.795000+00:00   \n",
       "6699    ADJUST 2018-05-18 23:29:32.148000+00:00   \n",
       "6699  BEAMDUMP 2018-05-18 23:42:59.200000+00:00   \n",
       "6699  RAMPDOWN 2018-05-18 23:43:15.067000+00:00   \n",
       "\n",
       "                              endTime        duration  \n",
       "6699 2018-05-18 23:47:19.993000+00:00 05:30:25.837000  \n",
       "6699 2018-05-18 18:18:06.216000+00:00 00:00:58.140000  \n",
       "6699 2018-05-18 18:23:46.679000+00:00 00:05:40.462000  \n",
       "6699 2018-05-18 18:27:20.053000+00:00 00:03:33.373000  \n",
       "6699 2018-05-18 18:43:59.837000+00:00 00:16:39.783000  \n",
       "6699 2018-05-18 18:53:28.253000+00:00 00:09:28.415000  \n",
       "6699 2018-05-18 19:14:17.205000+00:00 00:20:48.951000  \n",
       "6699 2018-05-18 19:59:01.379000+00:00 00:44:44.173000  \n",
       "6699 2018-05-18 20:11:03.946000+00:00 00:12:02.566000  \n",
       "6699 2018-05-18 20:34:29.794000+00:00 00:23:25.847000  \n",
       "6699 2018-05-18 23:29:32.147000+00:00 02:55:02.352000  \n",
       "6699 2018-05-18 23:42:59.199000+00:00 00:13:27.051000  \n",
       "6699 2018-05-18 23:43:15.066000+00:00 00:00:15.866000  \n",
       "6699 2018-05-18 23:47:19.993000+00:00 00:04:04.926000  "
      ]
     },
     "execution_count": 5,
     "metadata": {},
     "output_type": "execute_result"
    }
   ],
   "source": [
    "myFill"
   ]
  },
  {
   "cell_type": "markdown",
   "metadata": {},
   "source": [
    "## Wire Scanner Data"
   ]
  },
  {
   "cell_type": "markdown",
   "metadata": {},
   "source": [
    "Note: Wire Scanner for beam 2 appears to be non-operational from (2018-05-18 19:14:21.544284+00:00) untill (2018-05-18 19:28:56.528315+00:00). This causes blank spaces on emittance plots for B2H and B2V."
   ]
  },
  {
   "cell_type": "code",
   "execution_count": 6,
   "metadata": {},
   "outputs": [],
   "source": [
    "fno = 6699\n",
    "fn = '{}/fill_{}/fill_{}_wsprof.pkl'.format(PROCWSDIR,fno,fno)\n",
    "with open(fn,'rb') as fin:\n",
    "    wsdf = pd.read_pickle(fin)\n",
    "    wsdf=wsdf[(wsdf.index >= t1) & (wsdf.index <= t2)]"
   ]
  },
  {
   "cell_type": "markdown",
   "metadata": {},
   "source": [
    "## Intensity and Energy Data"
   ]
  },
  {
   "cell_type": "code",
   "execution_count": 7,
   "metadata": {},
   "outputs": [],
   "source": [
    "param_list = ['LHC.BCTFR.A6R4.B1:BUNCH_INTENSITY', 'LHC.BCTFR.A6R4.B2:BUNCH_INTENSITY']\n",
    "intensity_df = importData.cals2pd(param_list, t1, t2)\n",
    "intensity_df = intensity_df.reindex(wsdf.index, method='ffill')"
   ]
  },
  {
   "cell_type": "code",
   "execution_count": 8,
   "metadata": {},
   "outputs": [],
   "source": [
    "param_list = ['LHC.BQSH.B1:ENERGY', 'LHC.BQSH.B2:ENERGY']\n",
    "energy_df = importData.cals2pd(param_list, t1, t2)\n",
    "energy_df = energy_df.reindex(wsdf.index, method='ffill').interpolate()"
   ]
  },
  {
   "cell_type": "markdown",
   "metadata": {},
   "source": [
    "## Concatenate Data Together"
   ]
  },
  {
   "cell_type": "code",
   "execution_count": 9,
   "metadata": {},
   "outputs": [],
   "source": [
    "wsdf = pd.concat([wsdf, energy_df, intensity_df], axis=1)\n",
    "wsdf = wsdf.sort_index()\n",
    "wsdf = wsdf.dropna()"
   ]
  },
  {
   "cell_type": "markdown",
   "metadata": {},
   "source": [
    "## One final setup for intensity data"
   ]
  },
  {
   "cell_type": "markdown",
   "metadata": {},
   "source": [
    "Intensity data is stored in arrays for all bunches at a given time stamp. Since the wsdf only has one bunch per row, we extract the appropriate intensity value on each row (this saves a significant amount of space)."
   ]
  },
  {
   "cell_type": "code",
   "execution_count": 10,
   "metadata": {},
   "outputs": [
    {
     "ename": "ValueError",
     "evalue": "Cannot set a frame with no defined index and a value that cannot be converted to a Series",
     "output_type": "error",
     "traceback": [
      "\u001b[0;31m\u001b[0m",
      "\u001b[0;31mValueError\u001b[0mTraceback (most recent call last)",
      "\u001b[0;32m<ipython-input-10-f77e04da4ac6>\u001b[0m in \u001b[0;36m<module>\u001b[0;34m()\u001b[0m\n\u001b[1;32m      7\u001b[0m         \u001b[0;32mreturn\u001b[0m \u001b[0mNone\u001b[0m\u001b[0;34m\u001b[0m\u001b[0m\n\u001b[1;32m      8\u001b[0m \u001b[0;34m\u001b[0m\u001b[0m\n\u001b[0;32m----> 9\u001b[0;31m \u001b[0mwsdf\u001b[0m\u001b[0;34m[\u001b[0m\u001b[0;34m'INTENSITY_B1'\u001b[0m\u001b[0;34m]\u001b[0m \u001b[0;34m=\u001b[0m \u001b[0mwsdf\u001b[0m\u001b[0;34m.\u001b[0m\u001b[0mapply\u001b[0m\u001b[0;34m(\u001b[0m\u001b[0mget_intensity\u001b[0m\u001b[0;34m,\u001b[0m \u001b[0maxis\u001b[0m\u001b[0;34m=\u001b[0m\u001b[0;36m1\u001b[0m\u001b[0;34m,\u001b[0m \u001b[0margs\u001b[0m\u001b[0;34m=\u001b[0m\u001b[0;34m(\u001b[0m\u001b[0;34m'B1'\u001b[0m\u001b[0;34m,\u001b[0m\u001b[0;34m)\u001b[0m\u001b[0;34m)\u001b[0m\u001b[0;34m\u001b[0m\u001b[0m\n\u001b[0m\u001b[1;32m     10\u001b[0m \u001b[0mwsdf\u001b[0m\u001b[0;34m[\u001b[0m\u001b[0;34m'INTENSITY_B2'\u001b[0m\u001b[0;34m]\u001b[0m \u001b[0;34m=\u001b[0m \u001b[0mwsdf\u001b[0m\u001b[0;34m.\u001b[0m\u001b[0mapply\u001b[0m\u001b[0;34m(\u001b[0m\u001b[0mget_intensity\u001b[0m\u001b[0;34m,\u001b[0m \u001b[0maxis\u001b[0m\u001b[0;34m=\u001b[0m\u001b[0;36m1\u001b[0m\u001b[0;34m,\u001b[0m \u001b[0margs\u001b[0m\u001b[0;34m=\u001b[0m\u001b[0;34m(\u001b[0m\u001b[0;34m'B2'\u001b[0m\u001b[0;34m,\u001b[0m\u001b[0;34m)\u001b[0m\u001b[0;34m)\u001b[0m\u001b[0;34m\u001b[0m\u001b[0m\n\u001b[1;32m     11\u001b[0m \u001b[0mwsdf\u001b[0m\u001b[0;34m[\u001b[0m\u001b[0;34m'INTENSITY_B1'\u001b[0m\u001b[0;34m]\u001b[0m \u001b[0;34m=\u001b[0m \u001b[0mwsdf\u001b[0m\u001b[0;34m[\u001b[0m\u001b[0;34m'INTENSITY_B1'\u001b[0m\u001b[0;34m]\u001b[0m\u001b[0;34m.\u001b[0m\u001b[0minterpolate\u001b[0m\u001b[0;34m(\u001b[0m\u001b[0;34m)\u001b[0m\u001b[0;34m\u001b[0m\u001b[0m\n",
      "\u001b[0;32m/cvmfs/sft.cern.ch/lcg/views/LCG_93/x86_64-slc6-gcc62-opt/lib/python2.7/site-packages/pandas/core/frame.pyc\u001b[0m in \u001b[0;36m__setitem__\u001b[0;34m(self, key, value)\u001b[0m\n\u001b[1;32m   2517\u001b[0m         \u001b[0;32melse\u001b[0m\u001b[0;34m:\u001b[0m\u001b[0;34m\u001b[0m\u001b[0m\n\u001b[1;32m   2518\u001b[0m             \u001b[0;31m# set column\u001b[0m\u001b[0;34m\u001b[0m\u001b[0;34m\u001b[0m\u001b[0m\n\u001b[0;32m-> 2519\u001b[0;31m             \u001b[0mself\u001b[0m\u001b[0;34m.\u001b[0m\u001b[0m_set_item\u001b[0m\u001b[0;34m(\u001b[0m\u001b[0mkey\u001b[0m\u001b[0;34m,\u001b[0m \u001b[0mvalue\u001b[0m\u001b[0;34m)\u001b[0m\u001b[0;34m\u001b[0m\u001b[0m\n\u001b[0m\u001b[1;32m   2520\u001b[0m \u001b[0;34m\u001b[0m\u001b[0m\n\u001b[1;32m   2521\u001b[0m     \u001b[0;32mdef\u001b[0m \u001b[0m_setitem_slice\u001b[0m\u001b[0;34m(\u001b[0m\u001b[0mself\u001b[0m\u001b[0;34m,\u001b[0m \u001b[0mkey\u001b[0m\u001b[0;34m,\u001b[0m \u001b[0mvalue\u001b[0m\u001b[0;34m)\u001b[0m\u001b[0;34m:\u001b[0m\u001b[0;34m\u001b[0m\u001b[0m\n",
      "\u001b[0;32m/cvmfs/sft.cern.ch/lcg/views/LCG_93/x86_64-slc6-gcc62-opt/lib/python2.7/site-packages/pandas/core/frame.pyc\u001b[0m in \u001b[0;36m_set_item\u001b[0;34m(self, key, value)\u001b[0m\n\u001b[1;32m   2582\u001b[0m         \"\"\"\n\u001b[1;32m   2583\u001b[0m \u001b[0;34m\u001b[0m\u001b[0m\n\u001b[0;32m-> 2584\u001b[0;31m         \u001b[0mself\u001b[0m\u001b[0;34m.\u001b[0m\u001b[0m_ensure_valid_index\u001b[0m\u001b[0;34m(\u001b[0m\u001b[0mvalue\u001b[0m\u001b[0;34m)\u001b[0m\u001b[0;34m\u001b[0m\u001b[0m\n\u001b[0m\u001b[1;32m   2585\u001b[0m         \u001b[0mvalue\u001b[0m \u001b[0;34m=\u001b[0m \u001b[0mself\u001b[0m\u001b[0;34m.\u001b[0m\u001b[0m_sanitize_column\u001b[0m\u001b[0;34m(\u001b[0m\u001b[0mkey\u001b[0m\u001b[0;34m,\u001b[0m \u001b[0mvalue\u001b[0m\u001b[0;34m)\u001b[0m\u001b[0;34m\u001b[0m\u001b[0m\n\u001b[1;32m   2586\u001b[0m         \u001b[0mNDFrame\u001b[0m\u001b[0;34m.\u001b[0m\u001b[0m_set_item\u001b[0m\u001b[0;34m(\u001b[0m\u001b[0mself\u001b[0m\u001b[0;34m,\u001b[0m \u001b[0mkey\u001b[0m\u001b[0;34m,\u001b[0m \u001b[0mvalue\u001b[0m\u001b[0;34m)\u001b[0m\u001b[0;34m\u001b[0m\u001b[0m\n",
      "\u001b[0;32m/cvmfs/sft.cern.ch/lcg/views/LCG_93/x86_64-slc6-gcc62-opt/lib/python2.7/site-packages/pandas/core/frame.pyc\u001b[0m in \u001b[0;36m_ensure_valid_index\u001b[0;34m(self, value)\u001b[0m\n\u001b[1;32m   2564\u001b[0m                 \u001b[0mvalue\u001b[0m \u001b[0;34m=\u001b[0m \u001b[0mSeries\u001b[0m\u001b[0;34m(\u001b[0m\u001b[0mvalue\u001b[0m\u001b[0;34m)\u001b[0m\u001b[0;34m\u001b[0m\u001b[0m\n\u001b[1;32m   2565\u001b[0m             \u001b[0;32mexcept\u001b[0m\u001b[0;34m:\u001b[0m\u001b[0;34m\u001b[0m\u001b[0m\n\u001b[0;32m-> 2566\u001b[0;31m                 raise ValueError('Cannot set a frame with no defined index '\n\u001b[0m\u001b[1;32m   2567\u001b[0m                                  \u001b[0;34m'and a value that cannot be converted to a '\u001b[0m\u001b[0;34m\u001b[0m\u001b[0m\n\u001b[1;32m   2568\u001b[0m                                  'Series')\n",
      "\u001b[0;31mValueError\u001b[0m: Cannot set a frame with no defined index and a value that cannot be converted to a Series"
     ]
    }
   ],
   "source": [
    "def get_intensity(df_row, beam_num):\n",
    "    bunch_num = int(df_row['BUNCH'])\n",
    "    bunch_intensity = df_row['LHC.BCTFR.A6R4.'+beam_num+':BUNCH_INTENSITY'][bunch_num]\n",
    "    if (bunch_intensity !=0):\n",
    "        return bunch_intensity\n",
    "    else:\n",
    "        return None\n",
    "\n",
    "wsdf['INTENSITY_B1'] = wsdf.apply(get_intensity, axis=1, args=('B1',))\n",
    "wsdf['INTENSITY_B2'] = wsdf.apply(get_intensity, axis=1, args=('B2',))\n",
    "wsdf['INTENSITY_B1'] = wsdf['INTENSITY_B1'].interpolate()\n",
    "wsdf['INTENSITY_B2'] = wsdf['INTENSITY_B2'].interpolate()\n",
    "\n",
    "\n",
    "wsdf = wsdf.drop(['LHC.BCTFR.A6R4.B1:BUNCH_INTENSITY'], axis=1) #removes old intensity lists\n",
    "wsdf = wsdf.drop(['LHC.BCTFR.A6R4.B2:BUNCH_INTENSITY'], axis=1) #removes old intensity lists\n",
    "wsdf"
   ]
  },
  {
   "cell_type": "markdown",
   "metadata": {},
   "source": [
    "# Fit Wire Scanner Profiles to Gaussian Curve"
   ]
  },
  {
   "cell_type": "markdown",
   "metadata": {},
   "source": [
    "## Gaussian Function"
   ]
  },
  {
   "cell_type": "code",
   "execution_count": null,
   "metadata": {},
   "outputs": [],
   "source": [
    "def gaus(x, sigma, x0, a, y0):\n",
    "    return a*np.exp(-(x-x0)**2/(2*sigma**2)) + y0"
   ]
  },
  {
   "cell_type": "markdown",
   "metadata": {},
   "source": [
    "## Do the Fit"
   ]
  },
  {
   "cell_type": "code",
   "execution_count": null,
   "metadata": {},
   "outputs": [],
   "source": [
    "def fit_to_gauss(df_row, wire_movement): #wire movement is \"IN\" or \"OUT:\n",
    "\n",
    "    x = df_row['PROF_POSITION_'+wire_movement]\n",
    "    y = df_row['PROF_DATA_'+wire_movement]\n",
    "    \n",
    "    # INITIAL GUESSES FOR FIT\n",
    "    ypeak = max(y) \n",
    "    xpeak = x[y.argmax()]\n",
    "    half_max = np.abs(y-ypeak/2).argmin()\n",
    "    std_approx = np.abs(x[half_max] - xpeak)\n",
    "    \n",
    "    if ypeak>100:\n",
    "        popt,pcov = scipy.optimize.curve_fit(gaus,x,y,p0=[std_approx, xpeak, ypeak, 0])\n",
    "        sigma, mean, ampl, yoff = popt \n",
    "    else:\n",
    "        mean = ampl = yoff = 0\n",
    "        sigma = None\n",
    "        \n",
    "    return sigma\n",
    "\n",
    "wsdf['BEAM_WIDTH_IN'] = wsdf.apply(fit_to_gauss, axis='columns', args=('IN',))\n",
    "wsdf['BEAM_WIDTH_OUT'] = wsdf.apply(fit_to_gauss, axis='columns', args=('OUT',))"
   ]
  },
  {
   "cell_type": "markdown",
   "metadata": {},
   "source": [
    "# Examination of the Beam Profiles (Width Ratios)"
   ]
  },
  {
   "cell_type": "code",
   "execution_count": null,
   "metadata": {},
   "outputs": [],
   "source": [
    "wsdf['WIDTH_RATIOS'] = (wsdf['BEAM_WIDTH_IN'])/(wsdf['BEAM_WIDTH_OUT'])"
   ]
  },
  {
   "cell_type": "markdown",
   "metadata": {},
   "source": [
    "The beam width $\\sigma$ of each bunch for the wire going in and out (upwards and downwards) should be approximately the same. We plot the ratio $\\sigma_{out}/\\sigma_{in}$ below for a specific bunch."
   ]
  },
  {
   "cell_type": "markdown",
   "metadata": {},
   "source": [
    "## Single Bunch"
   ]
  },
  {
   "cell_type": "code",
   "execution_count": null,
   "metadata": {},
   "outputs": [],
   "source": [
    "wsdf_bunch = wsdf[(wsdf['BUNCH'] == BUNCH_NUM) & (wsdf['BEAM']==BEAM_NUM) & (wsdf['PLANE'] == POS)]\n",
    "\n",
    "fig, axes = plt.subplots(1,2, figsize=(16,5))\n",
    "\n",
    "# Left Plot\n",
    "wsdf_bunch[['WIDTH_RATIOS']][wsdf_bunch[['WIDTH_RATIOS']]>0].plot(linestyle=\"\", marker=\"o\", grid=True, markersize=2, legend = False, ax=axes[0])\n",
    "axes[0].set_ylabel(r\"$\\sigma_{in}/\\sigma_{out}$\")\n",
    "axes[0].set_title(\"Width Ratios, Bunch {}, Beam {}, {} (Function of Time)\".format(BUNCH_NUM, BEAM_NUM, POS))\n",
    "\n",
    "#Right Plots\n",
    "wsdf_bunch[['WIDTH_RATIOS']][wsdf_bunch[['WIDTH_RATIOS']]>0].hist(bins=100, figsize=(6,4), ax=axes[1])\n",
    "axes[1].axvline(x = 0.95, color = 'k', linestyle = '--')\n",
    "axes[1].axvline(x = 1.05, color = 'k', linestyle = '--')\n",
    "axes[1].set_xlabel(r\"$\\sigma_{in}/\\sigma_{out}$\")\n",
    "axes[1].set_ylabel(\"Number of Events\")\n",
    "axes[1].set_title(\"Width Ratios, Bunch {}, Beam {}, {} (Histogram)\".format(BUNCH_NUM, BEAM_NUM, POS))\n",
    "\n",
    "plt.show()"
   ]
  },
  {
   "cell_type": "markdown",
   "metadata": {},
   "source": [
    "## All Bunches"
   ]
  },
  {
   "cell_type": "code",
   "execution_count": null,
   "metadata": {},
   "outputs": [],
   "source": [
    "wsdf_all_bunch = wsdf[(wsdf['BEAM']==BEAM_NUM) & (wsdf['PLANE'] == POS)]\n",
    "\n",
    "fig, axes = plt.subplots(1,2, figsize=(16,5))\n",
    "\n",
    "# Left Plot\n",
    "wsdf_all_bunch[['WIDTH_RATIOS']][wsdf_all_bunch[['WIDTH_RATIOS']]>0].plot(linestyle=\"\", marker=\"o\", grid=True, markersize=2, legend = False, ax=axes[0])\n",
    "axes[0].set_ylabel(r\"$\\sigma_{in}/\\sigma_{out}$\")\n",
    "axes[0].set_title(\"Width Ratios, All Bunches, Beam {}, {} (Function of Time)\".format(BEAM_NUM, POS))\n",
    "\n",
    "#Right Plots\n",
    "wsdf_all_bunch[['WIDTH_RATIOS']][wsdf_all_bunch[['WIDTH_RATIOS']]>0].hist(bins=100, figsize=(6,4), ax=axes[1])\n",
    "axes[1].axvline(x = 0.95, color = 'k', linestyle = '--')\n",
    "axes[1].axvline(x = 1.05, color = 'k', linestyle = '--')\n",
    "axes[1].set_xlabel(r\"$\\sigma_{in}/\\sigma_{out}$\")\n",
    "axes[1].set_ylabel(\"Number of Events\")\n",
    "axes[1].set_title(\"Width Ratios, All Bunches, Beam {}, {} (Histogram)\".format(BEAM_NUM, POS))\n",
    "\n",
    "plt.show()\n",
    "fig.savefig('posterplots/sigmaratios.pdf')"
   ]
  },
  {
   "cell_type": "markdown",
   "metadata": {},
   "source": [
    "# Do The Cut on the Data Above"
   ]
  },
  {
   "cell_type": "markdown",
   "metadata": {},
   "source": [
    "We only want the data where the ratio of in to out is close to one; the other data is probably some sort of error. Note that this does not get rid of <i> all </i> error as sometimes the $\\sigma_{out}/\\sigma_{in}=1$ but both values are incorrect."
   ]
  },
  {
   "cell_type": "code",
   "execution_count": null,
   "metadata": {},
   "outputs": [],
   "source": [
    "wsdf_noncut = wsdf.copy()\n",
    "for index, row in wsdf.iterrows():\n",
    "    ratio = row['BEAM_WIDTH_OUT']/row['BEAM_WIDTH_IN']\n",
    "    if ratio>1.05 or ratio<0.95:\n",
    "        wsdf.drop(index, inplace=True)"
   ]
  },
  {
   "cell_type": "markdown",
   "metadata": {},
   "source": [
    "# Set Required Values"
   ]
  },
  {
   "cell_type": "markdown",
   "metadata": {},
   "source": [
    "## Set Beta Values"
   ]
  },
  {
   "cell_type": "markdown",
   "metadata": {},
   "source": [
    "Fills the data frame with the appropriate geometric values of Beta for each phase of the beam ramp."
   ]
  },
  {
   "cell_type": "code",
   "execution_count": null,
   "metadata": {},
   "outputs": [],
   "source": [
    "if BEAM_NUM is 'B1' and POS is 'V':\n",
    "    inj_beta, flattop_beta, squeeze_beta = 342.1, 337.5, 333.4\n",
    "if BEAM_NUM is 'B1' and POS is 'H':\n",
    "    inj_beta, flattop_beta, squeeze_beta = 193.4, 183.3, 193.2\n",
    "if BEAM_NUM is 'B2' and POS is 'V':\n",
    "    inj_beta, flattop_beta, squeeze_beta = 396.6, 421.1, 408.3\n",
    "if BEAM_NUM is 'B2' and POS is 'H':\n",
    "    inj_beta, flattop_beta, squeeze_beta = 185.3, 187.7, 182.3\n",
    "\n",
    "wsdf.loc[phase_times[0]:phase_times[3],'BETA'] = inj_beta\n",
    "wsdf.loc[phase_times[3]:phase_times[4],'BETA'] = flattop_beta\n",
    "wsdf.loc[phase_times[4]:,'BETA'] = squeeze_beta"
   ]
  },
  {
   "cell_type": "markdown",
   "metadata": {},
   "source": [
    "## Set Emittance Values"
   ]
  },
  {
   "cell_type": "code",
   "execution_count": null,
   "metadata": {},
   "outputs": [],
   "source": [
    "def get_emit(df_row, wire_movement, beam_num):\n",
    "    return (df_row['BEAM_WIDTH_'+wire_movement]**2 *\n",
    "            (df_row['LHC.BQSH.'+beam_num+':ENERGY']) /\n",
    "            (df_row['BETA'] * MASS_PROTON))*10**-6\n",
    "\n",
    "wsdf['EMIT_B1_IN'] = wsdf.apply(get_emit, axis='columns', args=('IN','B1',))\n",
    "wsdf['EMIT_B1_OUT'] = wsdf.apply(get_emit, axis='columns', args=('OUT','B1',))\n",
    "wsdf['EMIT_B2_IN'] = wsdf.apply(get_emit, axis='columns', args=('IN','B2',))\n",
    "wsdf['EMIT_B2_OUT'] = wsdf.apply(get_emit, axis='columns', args=('OUT','B2',))"
   ]
  },
  {
   "cell_type": "code",
   "execution_count": null,
   "metadata": {},
   "outputs": [],
   "source": []
  },
  {
   "cell_type": "markdown",
   "metadata": {},
   "source": [
    "## Set Brightness Values"
   ]
  },
  {
   "cell_type": "markdown",
   "metadata": {},
   "source": [
    "$$\\boxed{\\text{Brightness} \\hspace{2mm} = \\hspace{2mm} \\frac{\\epsilon_N}{I} \\hspace{2mm} = \\hspace{2mm} \\frac{E \\sigma^2}{I m_{pro} \\beta_{op}}} $$"
   ]
  },
  {
   "cell_type": "markdown",
   "metadata": {},
   "source": [
    "E = energy of beam\n",
    "\n",
    "$\\sigma$ = width of beam\n",
    "\n",
    "I = intensity\n",
    "\n",
    "$m_{pro}$ = mass of proton\n",
    "\n",
    "$\\beta_{op}$ = Optical parameter for emittance "
   ]
  },
  {
   "cell_type": "code",
   "execution_count": null,
   "metadata": {},
   "outputs": [],
   "source": [
    "def get_bright(df_row, wire_movement, beam_num):\n",
    "    return ((df_row['EMIT_'+beam_num+'_'+wire_movement]) /\n",
    "            (df_row['INTENSITY_'+beam_num]))\n",
    "\n",
    "wsdf['BRIGHT_B1_IN'] = wsdf.apply(get_bright, axis='columns', args=('IN','B1',))\n",
    "wsdf['BRIGHT_B1_OUT'] = wsdf.apply(get_bright, axis='columns', args=('OUT','B1',))\n",
    "wsdf['BRIGHT_B2_IN'] = wsdf.apply(get_bright, axis='columns', args=('IN','B2',))\n",
    "wsdf['BRIGHT_B2_OUT'] = wsdf.apply(get_bright, axis='columns', args=('OUT','B2',))"
   ]
  },
  {
   "cell_type": "markdown",
   "metadata": {},
   "source": [
    "# Plotting"
   ]
  },
  {
   "cell_type": "markdown",
   "metadata": {},
   "source": [
    "## Get Plotting Data"
   ]
  },
  {
   "cell_type": "code",
   "execution_count": null,
   "metadata": {},
   "outputs": [],
   "source": [
    "beam_prof_B1_H = wsdf[(wsdf['BEAM'] == 'B1') & (wsdf['PLANE'] == 'H') & (wsdf['DEV'] == '5R4_B1H2')]  \n",
    "beam_prof_B1_V = wsdf[(wsdf['BEAM'] == 'B1') & (wsdf['PLANE'] == 'V') & (wsdf['DEV'] == '5R4_B1V2')]  \n",
    "beam_prof_B2_H = wsdf[(wsdf['BEAM'] == 'B2') & (wsdf['PLANE'] == 'H') & (wsdf['DEV'] == '5L4_B2H1')]  \n",
    "beam_prof_B2_V = wsdf[(wsdf['BEAM'] == 'B2') & (wsdf['PLANE'] == 'V') & (wsdf['DEV'] == '5L4_B2V2')]  "
   ]
  },
  {
   "cell_type": "markdown",
   "metadata": {},
   "source": [
    "###  Emittance (All Bunches)"
   ]
  },
  {
   "cell_type": "code",
   "execution_count": null,
   "metadata": {},
   "outputs": [],
   "source": [
    "fig, axes = plt.subplots(2,2,figsize=(16,10))\n",
    "\n",
    "for bunch in beam_prof_B1_H.dropna().BUNCH.unique():\n",
    "    try:\n",
    "        beam_prof_B1_H[beam_prof_B1_H['BUNCH'] == bunch]['EMIT_B1_IN'].plot(ax=axes[0,0], linestyle=\"\", marker=\"o\", grid=True, markersize=2, legend=True, label='Bunch '+str(int(bunch)))\n",
    "    except:\n",
    "        None\n",
    "    try:\n",
    "        beam_prof_B1_V[beam_prof_B1_V['BUNCH'] == bunch]['EMIT_B1_IN'].plot(ax=axes[0,1], linestyle=\"\", marker=\"o\", grid=True, markersize=2, legend=True, label='Bunch '+str(int(bunch)))\n",
    "    except:\n",
    "        None\n",
    "    try:\n",
    "        beam_prof_B2_H[beam_prof_B2_H['BUNCH'] == bunch]['EMIT_B2_IN'].plot(ax=axes[1,0], linestyle=\"\", marker=\"o\", grid=True, markersize=2, legend=True, label='Bunch '+str(int(bunch)))\n",
    "    except:\n",
    "        None\n",
    "    try:\n",
    "        beam_prof_B2_V[beam_prof_B2_V['BUNCH'] == bunch]['EMIT_B2_IN'].plot(ax=axes[1,1], linestyle=\"\", marker=\"o\", grid=True, markersize=2, legend=True, label='Bunch '+str(int(bunch)))\n",
    "    except:\n",
    "        None\n",
    "\n",
    "phase_lines = []\n",
    "line_cycler = cycle(['-', '--'])\n",
    "for (i,time) in enumerate(phase_times):\n",
    "    \n",
    "    linenow = next(line_cycler)\n",
    "    \n",
    "    phase_lines.append(axes[0,0].axvline(x = time, color = 'k', linestyle = linenow, label = phases[i]))\n",
    "    phase_lines.append(axes[1,0].axvline(x = time, color = 'k', linestyle = linenow, label = phases[i]))\n",
    "    phase_lines.append(axes[0,1].axvline(x = time, color = 'k', linestyle = linenow, label = phases[i]))\n",
    "    phase_lines.append(axes[1,1].axvline(x = time, color = 'k', linestyle = linenow, label = phases[i]))\n",
    "    \n",
    "    \n",
    "phase_legend = axes[0,1].legend(handles = phase_lines, labels = phases, loc = 'upper left', bbox_to_anchor = (1.0, 0.4))\n",
    "beam_legend = axes[0,1].legend(loc='upper left', bbox_to_anchor = (1.0, 1.0), ncol = 1, markerscale=2)\n",
    "\n",
    "\n",
    "axes[0,0].legend_.remove()\n",
    "axes[1,0].legend_.remove()\n",
    "axes[1,1].legend_.remove()\n",
    "\n",
    "axes[0,0].set_ylim([0,10])\n",
    "axes[0,1].set_ylim([0,10])\n",
    "\n",
    "axes[0,0].set_title('Emittance: B1, H, All Bunches')\n",
    "axes[0,1].set_title('Emittance: B1, V, All Bunches')\n",
    "axes[1,0].set_title('Emittance: B2, H, All Bunches')\n",
    "axes[1,1].set_title('Emittance: B2, V, All Bunches')\n",
    "\n",
    "axes[0,0].set_ylabel(r\"$\\epsilon_N$ [m]\")\n",
    "axes[1,0].set_ylabel(r\"$\\epsilon_N$ [m]\")\n",
    "\n",
    "plt.subplots_adjust(top = 0.99, bottom=0.01, hspace=0.2, wspace=0.1)\n",
    "plt.savefig('posterplots/emittanceallbeamsallphases.pdf', bbox_inches='tight')\n",
    "plt.show()"
   ]
  },
  {
   "cell_type": "markdown",
   "metadata": {},
   "source": [
    "## Brightness (All Bunches)"
   ]
  },
  {
   "cell_type": "code",
   "execution_count": null,
   "metadata": {},
   "outputs": [],
   "source": [
    "fig, axes = plt.subplots(2,2,figsize=(16,10))\n",
    "\n",
    "for bunch in beam_prof_B1_H.dropna().BUNCH.unique():\n",
    "    try:\n",
    "        beam_prof_B1_H[beam_prof_B1_H['BUNCH'] == bunch]['BRIGHT_B1_IN'].plot(ax=axes[0,0], linestyle=\"\", marker=\"o\", grid=True, markersize=2, legend=True, label='Bunch '+str(int(bunch)))\n",
    "    except:\n",
    "        None\n",
    "    try:\n",
    "        beam_prof_B1_V[beam_prof_B1_V['BUNCH'] == bunch]['BRIGHT_B1_IN'].plot(ax=axes[0,1], linestyle=\"\", marker=\"o\", grid=True, markersize=2, legend=True, label='Bunch '+str(int(bunch)))\n",
    "    except:\n",
    "        None\n",
    "    try:\n",
    "        beam_prof_B2_H[beam_prof_B2_H['BUNCH'] == bunch]['BRIGHT_B2_IN'].plot(ax=axes[1,0], linestyle=\"\", marker=\"o\", grid=True, markersize=2, legend=True, label='Bunch '+str(int(bunch)))\n",
    "    except:\n",
    "        None\n",
    "    try:\n",
    "        beam_prof_B2_V[beam_prof_B2_V['BUNCH'] == bunch]['BRIGHT_B2_IN'].plot(ax=axes[1,1], linestyle=\"\", marker=\"o\", grid=True, markersize=2, legend=True, label='Bunch '+str(int(bunch)))\n",
    "    except:\n",
    "        None\n",
    "\n",
    "phase_lines = []\n",
    "line_cycler = cycle(['-', '--'])\n",
    "for (i,time) in enumerate(phase_times):\n",
    "    \n",
    "    linenow = next(line_cycler)\n",
    "    \n",
    "    phase_lines.append(axes[0,0].axvline(x = time, color = 'k', linestyle = linenow, label = phases[i]))\n",
    "    phase_lines.append(axes[1,0].axvline(x = time, color = 'k', linestyle = linenow, label = phases[i]))\n",
    "    phase_lines.append(axes[0,1].axvline(x = time, color = 'k', linestyle = linenow, label = phases[i]))\n",
    "    phase_lines.append(axes[1,1].axvline(x = time, color = 'k', linestyle = linenow, label = phases[i]))\n",
    "    \n",
    "    \n",
    "phase_legend = axes[0,1].legend(handles = phase_lines, labels = phases, loc = 'upper left', bbox_to_anchor = (1.0, 0.4), markerscale=1)\n",
    "beam_legend = axes[0,1].legend(loc='upper left', bbox_to_anchor = (1.0, 1.0), ncol = 1, markerscale=2)\n",
    "\n",
    "\n",
    "axes[0,0].legend_.remove()\n",
    "axes[1,0].legend_.remove()\n",
    "axes[1,1].legend_.remove()\n",
    "\n",
    "\n",
    "axes[0,0].set_title('Brightness: B1, H, All Bunches')\n",
    "axes[0,1].set_title('Brightness: B1, V, All Bunches')\n",
    "axes[1,0].set_title('Brightness: B2, H, All Bunches')\n",
    "axes[1,1].set_title('Brightness: B2, V, All Bunches')\n",
    "\n",
    "axes[0,0].set_ylabel(r\"$\\epsilon_N/I$\")\n",
    "axes[1,0].set_ylabel(r\"$\\epsilon_N/I$\")\n",
    "\n",
    "axes[0,0].set_ylim([0,0.3*10**-9])\n",
    "axes[0,1].set_ylim([0,0.6*10**-9])\n",
    "\n",
    "plt.subplots_adjust(top = 0.99, bottom=0.01, hspace=0.2, wspace=0.1)\n",
    "plt.savefig('posterplots/brightnessallbeamsallphases.pdf', bbox_inches='tight')\n",
    "plt.show()"
   ]
  },
  {
   "cell_type": "markdown",
   "metadata": {},
   "source": [
    "# Correlation Between Bunches (For Fun)"
   ]
  },
  {
   "cell_type": "code",
   "execution_count": null,
   "metadata": {},
   "outputs": [],
   "source": [
    "bpf = beam_prof[beam_prof['BUNCH'] == 5]\n",
    "x = bpf['EMIT_B1_OUT']\n",
    "\n",
    "bpf = beam_prof[beam_prof['BUNCH'] == 1200]\n",
    "y = bpf['EMIT_B1_OUT']\n",
    "\n",
    "print pearsonr(x,y)"
   ]
  }
 ],
 "metadata": {
  "kernelspec": {
   "display_name": "Python 3",
   "language": "python",
   "name": "python3"
  },
  "language_info": {
   "codemirror_mode": {
    "name": "ipython",
    "version": 3
   },
   "file_extension": ".py",
   "mimetype": "text/x-python",
   "name": "python",
   "nbconvert_exporter": "python",
   "pygments_lexer": "ipython3",
   "version": "3.6.6"
  }
 },
 "nbformat": 4,
 "nbformat_minor": 2
}
